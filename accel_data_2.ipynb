{
 "cells": [
  {
   "cell_type": "code",
   "execution_count": 23,
   "id": "e1f92f34",
   "metadata": {},
   "outputs": [],
   "source": [
    "%matplotlib widget\n",
    "\n",
    "import pandas\n",
    "import numpy as np\n",
    "import scipy\n",
    "from scipy import stats\n",
    "import matplotlib.pyplot as plt\n",
    "\n",
    "calibration_data = pandas.read_feather('data_dump.bin')\n",
    "test_data = pandas.read_feather('data_dump_2.bin')"
   ]
  },
  {
   "cell_type": "code",
   "execution_count": 24,
   "id": "d3f3037e",
   "metadata": {},
   "outputs": [
    {
     "data": {
      "text/html": [
       "<div>\n",
       "<style scoped>\n",
       "    .dataframe tbody tr th:only-of-type {\n",
       "        vertical-align: middle;\n",
       "    }\n",
       "\n",
       "    .dataframe tbody tr th {\n",
       "        vertical-align: top;\n",
       "    }\n",
       "\n",
       "    .dataframe thead th {\n",
       "        text-align: right;\n",
       "    }\n",
       "</style>\n",
       "<table border=\"1\" class=\"dataframe\">\n",
       "  <thead>\n",
       "    <tr style=\"text-align: right;\">\n",
       "      <th></th>\n",
       "      <th>x</th>\n",
       "      <th>y</th>\n",
       "      <th>z</th>\n",
       "    </tr>\n",
       "  </thead>\n",
       "  <tbody>\n",
       "    <tr>\n",
       "      <th>count</th>\n",
       "      <td>206417.000000</td>\n",
       "      <td>206417.000000</td>\n",
       "      <td>206417.000000</td>\n",
       "    </tr>\n",
       "    <tr>\n",
       "      <th>mean</th>\n",
       "      <td>0.081842</td>\n",
       "      <td>-0.028652</td>\n",
       "      <td>-0.890410</td>\n",
       "    </tr>\n",
       "    <tr>\n",
       "      <th>std</th>\n",
       "      <td>0.028038</td>\n",
       "      <td>0.025647</td>\n",
       "      <td>0.031082</td>\n",
       "    </tr>\n",
       "    <tr>\n",
       "      <th>min</th>\n",
       "      <td>-0.384000</td>\n",
       "      <td>-0.512000</td>\n",
       "      <td>-1.408000</td>\n",
       "    </tr>\n",
       "    <tr>\n",
       "      <th>25%</th>\n",
       "      <td>0.064000</td>\n",
       "      <td>-0.048000</td>\n",
       "      <td>-0.912000</td>\n",
       "    </tr>\n",
       "    <tr>\n",
       "      <th>50%</th>\n",
       "      <td>0.080000</td>\n",
       "      <td>-0.032000</td>\n",
       "      <td>-0.888000</td>\n",
       "    </tr>\n",
       "    <tr>\n",
       "      <th>75%</th>\n",
       "      <td>0.096000</td>\n",
       "      <td>0.000000</td>\n",
       "      <td>-0.872000</td>\n",
       "    </tr>\n",
       "    <tr>\n",
       "      <th>max</th>\n",
       "      <td>0.232000</td>\n",
       "      <td>0.088000</td>\n",
       "      <td>-0.744000</td>\n",
       "    </tr>\n",
       "  </tbody>\n",
       "</table>\n",
       "</div>"
      ],
      "text/plain": [
       "                   x              y              z\n",
       "count  206417.000000  206417.000000  206417.000000\n",
       "mean        0.081842      -0.028652      -0.890410\n",
       "std         0.028038       0.025647       0.031082\n",
       "min        -0.384000      -0.512000      -1.408000\n",
       "25%         0.064000      -0.048000      -0.912000\n",
       "50%         0.080000      -0.032000      -0.888000\n",
       "75%         0.096000       0.000000      -0.872000\n",
       "max         0.232000       0.088000      -0.744000"
      ]
     },
     "execution_count": 24,
     "metadata": {},
     "output_type": "execute_result"
    }
   ],
   "source": [
    "calibration_data.describe()"
   ]
  },
  {
   "cell_type": "code",
   "execution_count": 25,
   "id": "335bc91e",
   "metadata": {},
   "outputs": [
    {
     "data": {
      "text/html": [
       "<div>\n",
       "<style scoped>\n",
       "    .dataframe tbody tr th:only-of-type {\n",
       "        vertical-align: middle;\n",
       "    }\n",
       "\n",
       "    .dataframe tbody tr th {\n",
       "        vertical-align: top;\n",
       "    }\n",
       "\n",
       "    .dataframe thead th {\n",
       "        text-align: right;\n",
       "    }\n",
       "</style>\n",
       "<table border=\"1\" class=\"dataframe\">\n",
       "  <thead>\n",
       "    <tr style=\"text-align: right;\">\n",
       "      <th></th>\n",
       "      <th>x</th>\n",
       "      <th>y</th>\n",
       "      <th>z</th>\n",
       "    </tr>\n",
       "  </thead>\n",
       "  <tbody>\n",
       "    <tr>\n",
       "      <th>count</th>\n",
       "      <td>43155.000000</td>\n",
       "      <td>43155.000000</td>\n",
       "      <td>43155.000000</td>\n",
       "    </tr>\n",
       "    <tr>\n",
       "      <th>mean</th>\n",
       "      <td>0.076652</td>\n",
       "      <td>-0.024042</td>\n",
       "      <td>-0.894116</td>\n",
       "    </tr>\n",
       "    <tr>\n",
       "      <th>std</th>\n",
       "      <td>0.106759</td>\n",
       "      <td>0.049641</td>\n",
       "      <td>0.042082</td>\n",
       "    </tr>\n",
       "    <tr>\n",
       "      <th>min</th>\n",
       "      <td>-0.832000</td>\n",
       "      <td>-0.464000</td>\n",
       "      <td>-1.160000</td>\n",
       "    </tr>\n",
       "    <tr>\n",
       "      <th>25%</th>\n",
       "      <td>0.048000</td>\n",
       "      <td>-0.048000</td>\n",
       "      <td>-0.920000</td>\n",
       "    </tr>\n",
       "    <tr>\n",
       "      <th>50%</th>\n",
       "      <td>0.080000</td>\n",
       "      <td>-0.024000</td>\n",
       "      <td>-0.896000</td>\n",
       "    </tr>\n",
       "    <tr>\n",
       "      <th>75%</th>\n",
       "      <td>0.112000</td>\n",
       "      <td>0.000000</td>\n",
       "      <td>-0.872000</td>\n",
       "    </tr>\n",
       "    <tr>\n",
       "      <th>max</th>\n",
       "      <td>0.864000</td>\n",
       "      <td>0.440000</td>\n",
       "      <td>-0.600000</td>\n",
       "    </tr>\n",
       "  </tbody>\n",
       "</table>\n",
       "</div>"
      ],
      "text/plain": [
       "                  x             y             z\n",
       "count  43155.000000  43155.000000  43155.000000\n",
       "mean       0.076652     -0.024042     -0.894116\n",
       "std        0.106759      0.049641      0.042082\n",
       "min       -0.832000     -0.464000     -1.160000\n",
       "25%        0.048000     -0.048000     -0.920000\n",
       "50%        0.080000     -0.024000     -0.896000\n",
       "75%        0.112000      0.000000     -0.872000\n",
       "max        0.864000      0.440000     -0.600000"
      ]
     },
     "execution_count": 25,
     "metadata": {},
     "output_type": "execute_result"
    }
   ],
   "source": [
    "test_data.describe()"
   ]
  },
  {
   "cell_type": "code",
   "execution_count": 26,
   "id": "26ddb2b8",
   "metadata": {},
   "outputs": [
    {
     "data": {
      "application/vnd.jupyter.widget-view+json": {
       "model_id": "a5b1e46d4a1b4dbeb0e4d1fd4ad662dc",
       "version_major": 2,
       "version_minor": 0
      },
      "text/plain": [
       "Canvas(toolbar=Toolbar(toolitems=[('Home', 'Reset original view', 'home', 'home'), ('Back', 'Back to previous …"
      ]
     },
     "metadata": {},
     "output_type": "display_data"
    },
    {
     "data": {
      "text/plain": [
       "[<matplotlib.lines.Line2D at 0x163cae730>]"
      ]
     },
     "execution_count": 26,
     "metadata": {},
     "output_type": "execute_result"
    }
   ],
   "source": [
    "plt.plot(test_data['x'], test_data['y'])"
   ]
  },
  {
   "cell_type": "code",
   "execution_count": 27,
   "id": "c7f9885e",
   "metadata": {},
   "outputs": [
    {
     "name": "stdout",
     "output_type": "stream",
     "text": [
      "-0.03196562225229186\n",
      "0.09153202247604791\n"
     ]
    }
   ],
   "source": [
    "rot_x_dps = np.arctan2(calibration_data['x'], np.hypot(calibration_data['y'], calibration_data['z']))\n",
    "avg_rot_x = np.average(rot_x_dps)\n",
    "\n",
    "rot_y_dps = np.arctan2(calibration_data['y'], np.hypot(calibration_data['x'], calibration_data['z']))\n",
    "avg_rot_y = np.average(rot_y_dps)\n",
    "\n",
    "\n",
    "pitch = avg_rot_y\n",
    "roll = avg_rot_x\n",
    "\n",
    "print(pitch)\n",
    "print(roll)"
   ]
  },
  {
   "cell_type": "code",
   "execution_count": 28,
   "id": "38ffe417",
   "metadata": {},
   "outputs": [
    {
     "name": "stdout",
     "output_type": "stream",
     "text": [
      "               x         y         z\n",
      "0       0.096976 -0.041036 -0.867650\n",
      "1       0.093542 -0.072855 -0.883641\n",
      "2       0.040221 -0.035826 -0.897843\n",
      "3       0.080065 -0.047517 -0.875134\n",
      "4       0.049580 -0.004551 -0.946075\n",
      "...          ...       ...       ...\n",
      "206412  0.007607 -0.032833 -0.920808\n",
      "206413  0.054905 -0.045208 -0.914347\n",
      "206414  0.038758 -0.051759 -0.897843\n",
      "206415  0.064872 -0.038089 -0.874623\n",
      "206416  0.067731  0.009850 -0.922598\n",
      "\n",
      "[206417 rows x 3 columns]\n"
     ]
    }
   ],
   "source": [
    "def get_rotation_matrix(yaw, pitch, roll):\n",
    "    return np.array([\n",
    "        [np.cos(roll) * np.cos(pitch), np.cos(pitch) * np.sin(roll), -np.sin(pitch)],\n",
    "        [np.cos(roll) * np.sin(yaw) * np.sin(pitch) - np.cos(yaw) * np.sin(roll),\n",
    "         np.cos(yaw) * np.cos(roll) + np.sin(yaw) * np.sin(roll) * np.sin(pitch), np.cos(pitch) * np.sin(yaw)],\n",
    "        [np.sin(yaw) * np.sin(roll) + np.cos(yaw) * np.cos(roll) * np.sin(pitch),\n",
    "         np.cos(yaw) * np.sin(roll) * np.sin(pitch) - np.cos(roll) * np.sin(yaw), np.cos(yaw) * np.cos(pitch)]])\n",
    "\n",
    "\n",
    "# Attempt to remove rotation from the dataframe\n",
    "rot_removed_df = calibration_data @ get_rotation_matrix(0, -pitch, -roll)\n",
    "rot_removed_df.columns = ['x', 'y', 'z']\n",
    "\n",
    "print(rot_removed_df)"
   ]
  },
  {
   "cell_type": "code",
   "execution_count": 29,
   "id": "5700ccde",
   "metadata": {},
   "outputs": [
    {
     "name": "stdout",
     "output_type": "stream",
     "text": [
      "[ 0.05050059 -0.03340827  0.10742891]\n",
      "Calibration STD: [0.02708322 0.02660997 0.0311185 ]\n"
     ]
    }
   ],
   "source": [
    "# Remove gravity from calibration matrix and compute gains\n",
    "calibration_gains = np.average(rot_removed_df + np.array([0, 0, 1]), axis=0)\n",
    "calibration_std = np.array(np.std(rot_removed_df))\n",
    "print(calibration_gains)\n",
    "print(f\"Calibration STD: {calibration_std}\")"
   ]
  },
  {
   "cell_type": "code",
   "execution_count": 30,
   "id": "01b58a69",
   "metadata": {},
   "outputs": [
    {
     "data": {
      "text/html": [
       "<div>\n",
       "<style scoped>\n",
       "    .dataframe tbody tr th:only-of-type {\n",
       "        vertical-align: middle;\n",
       "    }\n",
       "\n",
       "    .dataframe tbody tr th {\n",
       "        vertical-align: top;\n",
       "    }\n",
       "\n",
       "    .dataframe thead th {\n",
       "        text-align: right;\n",
       "    }\n",
       "</style>\n",
       "<table border=\"1\" class=\"dataframe\">\n",
       "  <thead>\n",
       "    <tr style=\"text-align: right;\">\n",
       "      <th></th>\n",
       "      <th>0</th>\n",
       "      <th>1</th>\n",
       "      <th>2</th>\n",
       "    </tr>\n",
       "  </thead>\n",
       "  <tbody>\n",
       "    <tr>\n",
       "      <th>count</th>\n",
       "      <td>4.315500e+04</td>\n",
       "      <td>4.315500e+04</td>\n",
       "      <td>43155.000000</td>\n",
       "    </tr>\n",
       "    <tr>\n",
       "      <th>mean</th>\n",
       "      <td>3.238477e+01</td>\n",
       "      <td>1.272017e+01</td>\n",
       "      <td>-1243.815674</td>\n",
       "    </tr>\n",
       "    <tr>\n",
       "      <th>std</th>\n",
       "      <td>2.942399e+01</td>\n",
       "      <td>1.108419e+01</td>\n",
       "      <td>1112.266917</td>\n",
       "    </tr>\n",
       "    <tr>\n",
       "      <th>min</th>\n",
       "      <td>2.779976e-07</td>\n",
       "      <td>1.336331e-07</td>\n",
       "      <td>-3730.576606</td>\n",
       "    </tr>\n",
       "    <tr>\n",
       "      <th>25%</th>\n",
       "      <td>5.569911e+00</td>\n",
       "      <td>2.582301e+00</td>\n",
       "      <td>-2098.794778</td>\n",
       "    </tr>\n",
       "    <tr>\n",
       "      <th>50%</th>\n",
       "      <td>2.388727e+01</td>\n",
       "      <td>9.881382e+00</td>\n",
       "      <td>-933.121702</td>\n",
       "    </tr>\n",
       "    <tr>\n",
       "      <th>75%</th>\n",
       "      <td>5.488224e+01</td>\n",
       "      <td>2.140437e+01</td>\n",
       "      <td>-233.414004</td>\n",
       "    </tr>\n",
       "    <tr>\n",
       "      <th>max</th>\n",
       "      <td>9.864071e+01</td>\n",
       "      <td>3.697312e+01</td>\n",
       "      <td>-0.000004</td>\n",
       "    </tr>\n",
       "  </tbody>\n",
       "</table>\n",
       "</div>"
      ],
      "text/plain": [
       "                  0             1             2\n",
       "count  4.315500e+04  4.315500e+04  43155.000000\n",
       "mean   3.238477e+01  1.272017e+01  -1243.815674\n",
       "std    2.942399e+01  1.108419e+01   1112.266917\n",
       "min    2.779976e-07  1.336331e-07  -3730.576606\n",
       "25%    5.569911e+00  2.582301e+00  -2098.794778\n",
       "50%    2.388727e+01  9.881382e+00   -933.121702\n",
       "75%    5.488224e+01  2.140437e+01   -233.414004\n",
       "max    9.864071e+01  3.697312e+01     -0.000004"
      ]
     },
     "execution_count": 30,
     "metadata": {},
     "output_type": "execute_result"
    }
   ],
   "source": [
    "# Stupid me did not record time - so guess a dt // that will only really scale it\n",
    "dt = 1/500\n",
    "\n",
    "v_dps = []\n",
    "p_dps = []\n",
    "\n",
    "v = np.zeros(3, dtype=np.float64)\n",
    "p = np.zeros(3, dtype=np.float64)\n",
    "\n",
    "# Perform semi-implicit euler integration using 2nd derivative/acceleration\n",
    "for i in range(len(test_data)):\n",
    "    measurement = test_data.loc[i] - calibration_gains\n",
    "    #print(measurement)\n",
    "    v += measurement * dt\n",
    "    p += v * dt\n",
    "    \n",
    "    v_dps.append(v.copy())\n",
    "    p_dps.append(p.copy())\n",
    "\n",
    "# Turn integrated points into NumPy arrays\n",
    "v_np = np.array(v_dps)\n",
    "p_np = np.array(p_dps)\n",
    "\n",
    "#print(p_np)\n",
    "#print(p_np[:, 0], p_np[:, 1])\n",
    "\n",
    "pos_df = pandas.DataFrame(p_np)\n",
    "\n",
    "plt.scatter(p_np[:, 0], p_np[:, 1])\n",
    "\n",
    "pos_df.describe()"
   ]
  },
  {
   "cell_type": "code",
   "execution_count": null,
   "id": "d29143fd",
   "metadata": {},
   "outputs": [],
   "source": []
  },
  {
   "cell_type": "code",
   "execution_count": 31,
   "id": "a4497e33",
   "metadata": {},
   "outputs": [
    {
     "data": {
      "application/vnd.jupyter.widget-view+json": {
       "model_id": "03ae572a05554d708a67ac2e4c36b520",
       "version_major": 2,
       "version_minor": 0
      },
      "text/plain": [
       "Canvas(toolbar=Toolbar(toolitems=[('Home', 'Reset original view', 'home', 'home'), ('Back', 'Back to previous …"
      ]
     },
     "metadata": {},
     "output_type": "display_data"
    }
   ],
   "source": [
    "%matplotlib widget\n",
    "\n",
    "# Plot a vector field showing velocity in all points\n",
    "plt.quiver(p_np[:, 0], p_np[:, 1], v_np[:, 0], v_np[:, 1], scale=1)\n",
    "plt.show()"
   ]
  },
  {
   "cell_type": "code",
   "execution_count": 32,
   "id": "54e8fb85",
   "metadata": {},
   "outputs": [
    {
     "data": {
      "text/html": [
       "<div>\n",
       "<style scoped>\n",
       "    .dataframe tbody tr th:only-of-type {\n",
       "        vertical-align: middle;\n",
       "    }\n",
       "\n",
       "    .dataframe tbody tr th {\n",
       "        vertical-align: top;\n",
       "    }\n",
       "\n",
       "    .dataframe thead th {\n",
       "        text-align: right;\n",
       "    }\n",
       "</style>\n",
       "<table border=\"1\" class=\"dataframe\">\n",
       "  <thead>\n",
       "    <tr style=\"text-align: right;\">\n",
       "      <th></th>\n",
       "      <th>x</th>\n",
       "      <th>y</th>\n",
       "      <th>z</th>\n",
       "    </tr>\n",
       "  </thead>\n",
       "  <tbody>\n",
       "    <tr>\n",
       "      <th>count</th>\n",
       "      <td>43155.000000</td>\n",
       "      <td>43155.000000</td>\n",
       "      <td>43155.000000</td>\n",
       "    </tr>\n",
       "    <tr>\n",
       "      <th>mean</th>\n",
       "      <td>-0.004862</td>\n",
       "      <td>0.005077</td>\n",
       "      <td>-0.003538</td>\n",
       "    </tr>\n",
       "    <tr>\n",
       "      <th>std</th>\n",
       "      <td>0.106116</td>\n",
       "      <td>0.051205</td>\n",
       "      <td>0.041834</td>\n",
       "    </tr>\n",
       "    <tr>\n",
       "      <th>min</th>\n",
       "      <td>-0.903677</td>\n",
       "      <td>-0.468141</td>\n",
       "      <td>-0.255586</td>\n",
       "    </tr>\n",
       "    <tr>\n",
       "      <th>25%</th>\n",
       "      <td>-0.031497</td>\n",
       "      <td>-0.019035</td>\n",
       "      <td>-0.030027</td>\n",
       "    </tr>\n",
       "    <tr>\n",
       "      <th>50%</th>\n",
       "      <td>-0.002572</td>\n",
       "      <td>0.004841</td>\n",
       "      <td>-0.004761</td>\n",
       "    </tr>\n",
       "    <tr>\n",
       "      <th>75%</th>\n",
       "      <td>0.026426</td>\n",
       "      <td>0.030062</td>\n",
       "      <td>0.021017</td>\n",
       "    </tr>\n",
       "    <tr>\n",
       "      <th>max</th>\n",
       "      <td>0.783473</td>\n",
       "      <td>0.483737</td>\n",
       "      <td>0.284440</td>\n",
       "    </tr>\n",
       "  </tbody>\n",
       "</table>\n",
       "</div>"
      ],
      "text/plain": [
       "                  x             y             z\n",
       "count  43155.000000  43155.000000  43155.000000\n",
       "mean      -0.004862      0.005077     -0.003538\n",
       "std        0.106116      0.051205      0.041834\n",
       "min       -0.903677     -0.468141     -0.255586\n",
       "25%       -0.031497     -0.019035     -0.030027\n",
       "50%       -0.002572      0.004841     -0.004761\n",
       "75%        0.026426      0.030062      0.021017\n",
       "max        0.783473      0.483737      0.284440"
      ]
     },
     "execution_count": 32,
     "metadata": {},
     "output_type": "execute_result"
    }
   ],
   "source": [
    "# First measurement data processing - gets rid of gravity, rotation and applies calibration gains\n",
    "p1_measurement_data = test_data @ get_rotation_matrix(0, -pitch, -roll) - calibration_gains + [0, 0, 1]\n",
    "p1_measurement_data.columns = ['x', 'y', 'z']\n",
    "\n",
    "p1_measurement_data.describe()"
   ]
  },
  {
   "cell_type": "code",
   "execution_count": 33,
   "id": "a1d5005b",
   "metadata": {},
   "outputs": [
    {
     "data": {
      "application/vnd.jupyter.widget-view+json": {
       "model_id": "cf9c0678e3324022a65796a30ea7251c",
       "version_major": 2,
       "version_minor": 0
      },
      "text/plain": [
       "Canvas(toolbar=Toolbar(toolitems=[('Home', 'Reset original view', 'home', 'home'), ('Back', 'Back to previous …"
      ]
     },
     "metadata": {},
     "output_type": "display_data"
    },
    {
     "data": {
      "text/plain": [
       "<AxesSubplot:>"
      ]
     },
     "execution_count": 33,
     "metadata": {},
     "output_type": "execute_result"
    }
   ],
   "source": [
    "# Filter out DPs that are less than 2 stdevs from a 0 value. Also include DP number \n",
    "\n",
    "NUM_STDEVS = 0\n",
    "p2_measurement_data = p1_measurement_data[np.logical_and(np.abs(p1_measurement_data['x']) > NUM_STDEVS*calibration_std[0], np.abs(p1_measurement_data['y']) > NUM_STDEVS*calibration_std[1])]\n",
    "p2_measurement_data.plot()"
   ]
  },
  {
   "cell_type": "code",
   "execution_count": 34,
   "id": "422a5dad",
   "metadata": {},
   "outputs": [
    {
     "data": {
      "text/html": [
       "<div>\n",
       "<style scoped>\n",
       "    .dataframe tbody tr th:only-of-type {\n",
       "        vertical-align: middle;\n",
       "    }\n",
       "\n",
       "    .dataframe tbody tr th {\n",
       "        vertical-align: top;\n",
       "    }\n",
       "\n",
       "    .dataframe thead th {\n",
       "        text-align: right;\n",
       "    }\n",
       "</style>\n",
       "<table border=\"1\" class=\"dataframe\">\n",
       "  <thead>\n",
       "    <tr style=\"text-align: right;\">\n",
       "      <th></th>\n",
       "      <th>x</th>\n",
       "      <th>y</th>\n",
       "      <th>z</th>\n",
       "    </tr>\n",
       "  </thead>\n",
       "  <tbody>\n",
       "    <tr>\n",
       "      <th>0</th>\n",
       "      <td>0.039910</td>\n",
       "      <td>0.025110</td>\n",
       "      <td>-0.022798</td>\n",
       "    </tr>\n",
       "    <tr>\n",
       "      <th>1</th>\n",
       "      <td>-0.011488</td>\n",
       "      <td>-0.018374</td>\n",
       "      <td>0.002724</td>\n",
       "    </tr>\n",
       "    <tr>\n",
       "      <th>2</th>\n",
       "      <td>0.028292</td>\n",
       "      <td>-0.013992</td>\n",
       "      <td>-0.022543</td>\n",
       "    </tr>\n",
       "    <tr>\n",
       "      <th>3</th>\n",
       "      <td>-0.021752</td>\n",
       "      <td>0.030770</td>\n",
       "      <td>0.043215</td>\n",
       "    </tr>\n",
       "    <tr>\n",
       "      <th>4</th>\n",
       "      <td>0.009399</td>\n",
       "      <td>0.011843</td>\n",
       "      <td>0.066180</td>\n",
       "    </tr>\n",
       "    <tr>\n",
       "      <th>...</th>\n",
       "      <td>...</td>\n",
       "      <td>...</td>\n",
       "      <td>...</td>\n",
       "    </tr>\n",
       "    <tr>\n",
       "      <th>43150</th>\n",
       "      <td>-0.475373</td>\n",
       "      <td>-0.032031</td>\n",
       "      <td>0.113504</td>\n",
       "    </tr>\n",
       "    <tr>\n",
       "      <th>43151</th>\n",
       "      <td>-0.293597</td>\n",
       "      <td>-0.072816</td>\n",
       "      <td>-0.116518</td>\n",
       "    </tr>\n",
       "    <tr>\n",
       "      <th>43152</th>\n",
       "      <td>-0.353608</td>\n",
       "      <td>-0.035174</td>\n",
       "      <td>-0.090485</td>\n",
       "    </tr>\n",
       "    <tr>\n",
       "      <th>43153</th>\n",
       "      <td>-0.102666</td>\n",
       "      <td>-0.066241</td>\n",
       "      <td>0.053512</td>\n",
       "    </tr>\n",
       "    <tr>\n",
       "      <th>43154</th>\n",
       "      <td>-0.111533</td>\n",
       "      <td>0.014909</td>\n",
       "      <td>0.046027</td>\n",
       "    </tr>\n",
       "  </tbody>\n",
       "</table>\n",
       "<p>43155 rows × 3 columns</p>\n",
       "</div>"
      ],
      "text/plain": [
       "              x         y         z\n",
       "0      0.039910  0.025110 -0.022798\n",
       "1     -0.011488 -0.018374  0.002724\n",
       "2      0.028292 -0.013992 -0.022543\n",
       "3     -0.021752  0.030770  0.043215\n",
       "4      0.009399  0.011843  0.066180\n",
       "...         ...       ...       ...\n",
       "43150 -0.475373 -0.032031  0.113504\n",
       "43151 -0.293597 -0.072816 -0.116518\n",
       "43152 -0.353608 -0.035174 -0.090485\n",
       "43153 -0.102666 -0.066241  0.053512\n",
       "43154 -0.111533  0.014909  0.046027\n",
       "\n",
       "[43155 rows x 3 columns]"
      ]
     },
     "execution_count": 34,
     "metadata": {},
     "output_type": "execute_result"
    }
   ],
   "source": [
    "# Filter out datapoints that \n",
    "filtered_data = p2_measurement_data\n",
    "filtered_data"
   ]
  },
  {
   "cell_type": "code",
   "execution_count": 35,
   "id": "f5d02ccf",
   "metadata": {},
   "outputs": [
    {
     "data": {
      "text/plain": [
       "array([[ 0.00000000e+00,  0.00000000e+00,  0.00000000e+00],\n",
       "       [-1.14878595e-06, -1.83744322e-06,  2.72359789e-07],\n",
       "       [ 5.31602837e-07, -5.07409773e-06, -1.70953529e-06],\n",
       "       ...,\n",
       "       [-4.17522571e+02,  5.21650244e+02, -3.31003507e+02],\n",
       "       [-4.17543547e+02,  5.21672148e+02, -3.31018776e+02],\n",
       "       [-4.17564535e+02,  5.21694054e+02, -3.31034041e+02]])"
      ]
     },
     "execution_count": 35,
     "metadata": {},
     "output_type": "execute_result"
    }
   ],
   "source": [
    "v_dps = []\n",
    "p_dps = []\n",
    "\n",
    "v = np.zeros(3, dtype=np.float64)\n",
    "p = np.zeros(3, dtype=np.float64)\n",
    "\n",
    "# Perform semi-implicit euler integration using 2nd derivative/acceleration\n",
    "last_i = 0\n",
    "\n",
    "DT_PER_I = 1/100\n",
    "\n",
    "for i in filtered_data.index:\n",
    "    measurement = filtered_data.loc[i]\n",
    "    \n",
    "    # Compute dt\n",
    "    dt = (i - last_i) * DT_PER_I\n",
    "    last_i = i\n",
    "    \n",
    "    #print(measurement)\n",
    "    #v += (measurement - -0.006280741567885446) * dt\n",
    "    v += measurement * dt\n",
    "    p += v * dt\n",
    "    \n",
    "    v_dps.append(v.copy())\n",
    "    p_dps.append(p.copy())\n",
    "\n",
    "# Turn integrated points into NumPy arrays\n",
    "v_np = np.array(v_dps)\n",
    "p_np = np.array(p_dps)\n",
    "\n",
    "p_np"
   ]
  },
  {
   "cell_type": "code",
   "execution_count": 36,
   "id": "fa5f2095",
   "metadata": {},
   "outputs": [
    {
     "data": {
      "application/vnd.jupyter.widget-view+json": {
       "model_id": "bca8e73244cc45bb8c2ab5415d520175",
       "version_major": 2,
       "version_minor": 0
      },
      "text/plain": [
       "Canvas(toolbar=Toolbar(toolitems=[('Home', 'Reset original view', 'home', 'home'), ('Back', 'Back to previous …"
      ]
     },
     "metadata": {},
     "output_type": "display_data"
    },
    {
     "data": {
      "text/plain": [
       "<matplotlib.collections.PathCollection at 0x168d3b460>"
      ]
     },
     "execution_count": 36,
     "metadata": {},
     "output_type": "execute_result"
    }
   ],
   "source": [
    "%matplotlib widget\n",
    "\n",
    "pos_df = pandas.DataFrame(p_np)\n",
    "plt.scatter(p_np[:, 0], p_np[:, 1])"
   ]
  },
  {
   "cell_type": "code",
   "execution_count": 37,
   "id": "c428de35",
   "metadata": {},
   "outputs": [
    {
     "data": {
      "application/vnd.jupyter.widget-view+json": {
       "model_id": "15da29a8dc284e5f840439982af2e565",
       "version_major": 2,
       "version_minor": 0
      },
      "text/plain": [
       "Canvas(toolbar=Toolbar(toolitems=[('Home', 'Reset original view', 'home', 'home'), ('Back', 'Back to previous …"
      ]
     },
     "metadata": {},
     "output_type": "display_data"
    },
    {
     "data": {
      "text/plain": [
       "<matplotlib.collections.PathCollection at 0x16873ed60>"
      ]
     },
     "execution_count": 37,
     "metadata": {},
     "output_type": "execute_result"
    }
   ],
   "source": [
    "%matplotlib widget\n",
    "\n",
    "plt.scatter(v_np[:, 0], v_np[:, 1])"
   ]
  },
  {
   "cell_type": "code",
   "execution_count": 38,
   "id": "c50e8e0b",
   "metadata": {},
   "outputs": [
    {
     "data": {
      "application/vnd.jupyter.widget-view+json": {
       "model_id": "08649abdc8444e8c9f6f33710e25d95c",
       "version_major": 2,
       "version_minor": 0
      },
      "text/plain": [
       "Canvas(toolbar=Toolbar(toolitems=[('Home', 'Reset original view', 'home', 'home'), ('Back', 'Back to previous …"
      ]
     },
     "metadata": {},
     "output_type": "display_data"
    },
    {
     "data": {
      "text/plain": [
       "[<matplotlib.lines.Line2D at 0x168e748e0>]"
      ]
     },
     "execution_count": 38,
     "metadata": {},
     "output_type": "execute_result"
    }
   ],
   "source": [
    "%matplotlib widget\n",
    "filtered_data_np = np.array(filtered_data)\n",
    "\n",
    "axis = 0\n",
    "\n",
    "plt.subplot(3, 1, 1)\n",
    "plt.title(\"Acceleration\")\n",
    "plt.plot(filtered_data_np[:, axis])\n",
    "\n",
    "plt.subplot(3, 1, 2)\n",
    "plt.title(\"Velocity\")\n",
    "plt.plot(v_np[:, axis])\n",
    "\n",
    "plt.subplot(3, 1, 3)\n",
    "plt.title(\"Position\")\n",
    "plt.plot(p_np[:, axis])"
   ]
  },
  {
   "cell_type": "code",
   "execution_count": 39,
   "id": "a612cfd0",
   "metadata": {},
   "outputs": [
    {
     "data": {
      "text/plain": [
       "-0.004862369590036541"
      ]
     },
     "execution_count": 39,
     "metadata": {},
     "output_type": "execute_result"
    }
   ],
   "source": [
    "np.average(filtered_data_np[:, 0])"
   ]
  },
  {
   "cell_type": "code",
   "execution_count": 40,
   "id": "cc025fd3",
   "metadata": {},
   "outputs": [],
   "source": [
    "# NOTE: I am aware accel data is still in g's, but that only really scales things"
   ]
  },
  {
   "cell_type": "code",
   "execution_count": null,
   "id": "8c5ccee2",
   "metadata": {},
   "outputs": [],
   "source": []
  },
  {
   "cell_type": "code",
   "execution_count": 53,
   "id": "b6386f2f",
   "metadata": {},
   "outputs": [
    {
     "data": {
      "application/vnd.jupyter.widget-view+json": {
       "model_id": "f7ce5fdb5db147f18bea1f8e97123a77",
       "version_major": 2,
       "version_minor": 0
      },
      "text/plain": [
       "Canvas(toolbar=Toolbar(toolitems=[('Home', 'Reset original view', 'home', 'home'), ('Back', 'Back to previous …"
      ]
     },
     "metadata": {},
     "output_type": "display_data"
    },
    {
     "data": {
      "text/plain": [
       "<matplotlib.collections.PolyCollection at 0x169733f10>"
      ]
     },
     "execution_count": 53,
     "metadata": {},
     "output_type": "execute_result"
    }
   ],
   "source": [
    "%matplotlib widget\n",
    "\n",
    "# Just work with x datapoints to make life easier (assume 100Hz const sample rate )\n",
    "t_dps = np.array(list(range(len(filtered_data_np)))) / 100\n",
    "ax_dps = filtered_data_np[:, 0]\n",
    "\n",
    "# Get the samples that almost certainly lie within the noise (-> deviate less than 3.5 STD)\n",
    "noise_thres = 3.5 * calibration_std[0]\n",
    "noise_thres_dps = ax_dps[np.abs(ax_dps) < noise_thres]\n",
    "noise_avg = np.average(noise_thres_dps)\n",
    "\n",
    "plt.plot(t_dps, ax_dps, zorder=1)\n",
    "plt.axhline(noise_avg, np.min(t_dps), np.max(t_dps), color='orange')\n",
    "plt.fill_between(t_dps, -noise_thres, +noise_thres, color='orange', alpha=0.5, zorder=2)"
   ]
  },
  {
   "cell_type": "code",
   "execution_count": 70,
   "id": "a7ce43e3",
   "metadata": {},
   "outputs": [
    {
     "data": {
      "application/vnd.jupyter.widget-view+json": {
       "model_id": "f20588cfe6c341b2852bdd3f3db51901",
       "version_major": 2,
       "version_minor": 0
      },
      "text/plain": [
       "Canvas(toolbar=Toolbar(toolitems=[('Home', 'Reset original view', 'home', 'home'), ('Back', 'Back to previous …"
      ]
     },
     "metadata": {},
     "output_type": "display_data"
    },
    {
     "name": "stdout",
     "output_type": "stream",
     "text": [
      "-0.003996257703299634\n",
      "-0.0007672111011896066\n"
     ]
    }
   ],
   "source": [
    "%matplotlib widget\n",
    "\n",
    "# After each acceleration, it doesn't quite return to 0, but stays below consistently -> add a fudgefactor to all measurements pre-filter to see if this changes anything\n",
    "FILTER_BEFORE_FUDGE_ADD = 0.0030956915839844986 + 0.0021994351769940397 + 0.0015585331691145782 + 0.0010966370369129227\n",
    "\n",
    "# Get all of the DPs excludinng the noise below the above threshold\n",
    "ax_dps_with_before_fudge = ax_dps.copy() + FILTER_BEFORE_FUDGE_ADD\n",
    "above_noise_thres_indices = np.where(np.abs(ax_dps_with_before_fudge) > noise_thres)\n",
    "above_noise_thres_dps = ax_dps_with_before_fudge[above_noise_thres_indices]\n",
    "\n",
    "# Zero the DPs suspected of being noise\n",
    "zeroed_noise_dps = ax_dps_with_before_fudge.copy()\n",
    "zeroed_noise_dps[np.abs(ax_dps_with_before_fudge) < noise_thres] = 0\n",
    "\n",
    "plt.plot(above_noise_thres_indices[0], above_noise_thres_dps)\n",
    "plt.plot(list(range(len(zeroed_noise_dps))), zeroed_noise_dps)\n",
    "\n",
    "print(np.average(above_noise_thres_dps))\n",
    "print(np.average(zeroed_noise_dps))"
   ]
  },
  {
   "cell_type": "code",
   "execution_count": 73,
   "id": "4f6b46b4",
   "metadata": {},
   "outputs": [
    {
     "name": "stdout",
     "output_type": "stream",
     "text": [
      "Running simulation...\n",
      "0\n",
      "1000\n",
      "2000\n",
      "3000\n",
      "4000\n",
      "5000\n",
      "6000\n",
      "7000\n",
      "8000\n",
      "9000\n",
      "10000\n",
      "11000\n",
      "12000\n",
      "13000\n",
      "14000\n",
      "15000\n",
      "16000\n",
      "17000\n",
      "18000\n",
      "19000\n",
      "20000\n",
      "21000\n",
      "22000\n",
      "23000\n",
      "24000\n",
      "25000\n",
      "26000\n",
      "27000\n",
      "28000\n",
      "29000\n",
      "30000\n",
      "31000\n",
      "32000\n",
      "33000\n",
      "34000\n",
      "35000\n",
      "36000\n",
      "37000\n",
      "38000\n",
      "39000\n",
      "40000\n",
      "41000\n",
      "42000\n",
      "43000\n",
      "Plotting...\n"
     ]
    },
    {
     "data": {
      "application/vnd.jupyter.widget-view+json": {
       "model_id": "07b89c58e342434d87f335baba4c46b2",
       "version_major": 2,
       "version_minor": 0
      },
      "text/plain": [
       "Canvas(toolbar=Toolbar(toolitems=[('Home', 'Reset original view', 'home', 'home'), ('Back', 'Back to previous …"
      ]
     },
     "metadata": {},
     "output_type": "display_data"
    },
    {
     "name": "stdout",
     "output_type": "stream",
     "text": [
      "done!\n"
     ]
    }
   ],
   "source": [
    "%matplotlib widget\n",
    "# Helper function for simulating and plotting 1D kinematics\n",
    "def perform_and_plot_1D_sim(time_dps, acceleration_dps):\n",
    "    # Ensure time and acceleration datapoints have the same dimensions\n",
    "    assert(len(time_dps) == len(acceleration_dps))\n",
    "    \n",
    "    # Set up initial conditions and run iterative sim\n",
    "    print(\"Running simulation...\")\n",
    "    v = 0\n",
    "    p = 0\n",
    "    v_dps = []\n",
    "    p_dps = []\n",
    "    last_t = time_dps[0]  # NOTE: This means the first DP won't do much as dt will be 0, but considering we don't have to start at t=0, it's probably still the best solution\n",
    "    for i in range(len(time_dps)):\n",
    "        cur_t = time_dps[i]\n",
    "        dt = cur_t - last_t\n",
    "        last_t = cur_t\n",
    "        \n",
    "        v += acceleration_dps[i] * dt\n",
    "        p += v * dt\n",
    "        \n",
    "        v_dps.append(v.copy())\n",
    "        p_dps.append(p.copy())\n",
    "        \n",
    "        if (i % 1000 == 0):\n",
    "            print(i)\n",
    "        \n",
    "    print(\"Plotting...\")\n",
    "    plt.subplot(3, 1, 1)\n",
    "    plt.title(\"Acceleration\")\n",
    "    plt.plot(time_dps, acceleration_dps)\n",
    "\n",
    "    plt.subplot(3, 1, 2)\n",
    "    plt.title(\"Velocity\")\n",
    "    plt.plot(time_dps, v_dps)\n",
    "\n",
    "    plt.subplot(3, 1, 3)\n",
    "    plt.title(\"Position\")\n",
    "    plt.plot(time_dps, p_dps)\n",
    "    \n",
    "    print(\"done!\")\n",
    "\n",
    "\n",
    "perform_and_plot_1D_sim(np.array(list(range(len(p_dps))), dtype=np.float64) / 3000, zeroed_noise_dps * 9.81)"
   ]
  },
  {
   "cell_type": "code",
   "execution_count": null,
   "id": "37199e5c",
   "metadata": {},
   "outputs": [],
   "source": [
    "%matplotlib widget\n",
    "\n",
    "# Based on: https://realpython.com/python-scipy-fft/\n",
    "from scipy.fft import fft, fftfreq, irfft\n",
    "SAMPLE_RATE = 100\n",
    "DURATION = len(t_dps) / SAMPLE_RATE\n",
    "N = int(SAMPLE_RATE * DURATION)\n",
    "yf = fft(ax_dps)\n",
    "xf = fftfreq(N, 1 / SAMPLE_RATE)\n",
    "\n",
    "plt.plot(xf, np.abs(yf))"
   ]
  },
  {
   "cell_type": "code",
   "execution_count": null,
   "id": "cfbedf25",
   "metadata": {},
   "outputs": [],
   "source": [
    "# Similar to last one, but now on the calibration data set's x dps\n",
    "%matplotlib widget\n",
    "\n",
    "SAMPLE_RATE = 3600\n",
    "DURATION = len(rot_removed_df) / SAMPLE_RATE\n",
    "N = int(SAMPLE_RATE * DURATION)\n",
    "yf = fft(np.array(rot_removed_df)[:, 0])\n",
    "xf = fftfreq(N, 1 / SAMPLE_RATE)\n",
    "\n",
    "plt.plot(xf, np.abs(yf))"
   ]
  },
  {
   "cell_type": "code",
   "execution_count": null,
   "id": "56e92872",
   "metadata": {},
   "outputs": [],
   "source": [
    "%matplotlib widget\n",
    "from scipy import signal\n",
    "sos_filter = signal.butter(20, 0.00001, 'lp', fs=1/SAMPLE_RATE, output='sos')\n",
    "filtered = signal.sosfilt(sos_filter, ax_dps)\n",
    "\n",
    "\n",
    "plt.plot(t_dps, filtered, zorder=1)"
   ]
  },
  {
   "cell_type": "code",
   "execution_count": null,
   "id": "43fb310c",
   "metadata": {},
   "outputs": [],
   "source": [
    "# NOTE: Because we end stationary/don't rotate, the sum of all acceleration (times the timestep, which is assumed constant -> can drop out) should be 0 -> we can just average the entire dataset under these idealized assumptions\n",
    "filtered_normed = filtered - np.average(filtered)"
   ]
  },
  {
   "cell_type": "code",
   "execution_count": null,
   "id": "98b902d5",
   "metadata": {},
   "outputs": [],
   "source": [
    "np.std(filtered_normed)"
   ]
  },
  {
   "cell_type": "code",
   "execution_count": null,
   "id": "6930a0d9",
   "metadata": {},
   "outputs": [],
   "source": [
    "# Run another FFT on the filtered data to see what kind of difference it made\n",
    "%matplotlib widget\n",
    "\n",
    "# Based on: https://realpython.com/python-scipy-fft/\n",
    "from scipy.fft import fft, fftfreq\n",
    "SAMPLE_RATE = 100\n",
    "DURATION = len(filtered_normed) / SAMPLE_RATE\n",
    "N = int(SAMPLE_RATE * DURATION)\n",
    "yf = fft(filtered_normed)\n",
    "xf = fftfreq(N, 1 / SAMPLE_RATE)\n",
    "\n",
    "plt.plot(xf, np.abs(yf))"
   ]
  },
  {
   "cell_type": "code",
   "execution_count": null,
   "id": "e92c9cfc",
   "metadata": {},
   "outputs": [],
   "source": [
    "%matplotlib widget\n",
    "dt = 1/SAMPLE_RATE\n",
    "x = 0\n",
    "vx = 0\n",
    "\n",
    "t_dps = []\n",
    "x_dps = []\n",
    "vx_dps = []\n",
    "\n",
    "for i in range(len(filtered_normed)):\n",
    "    vx += filtered_normed[i] * dt\n",
    "    x += vx * dt\n",
    "    \n",
    "    t_dps.append(i * dt)\n",
    "    x_dps.append(x)\n",
    "    vx_dps.append(vx)\n",
    "\n",
    "plt.plot(t_dps, x_dps)\n"
   ]
  },
  {
   "cell_type": "code",
   "execution_count": null,
   "id": "9b5ad3b4",
   "metadata": {},
   "outputs": [],
   "source": [
    "%matplotlib widget\n",
    "# NOTE: FFT appears to change magnitude as well, or at least, it appears to do so when filtering frequencies\n",
    "from scipy.fft import ifft\n",
    "signal_thres = 13\n",
    "new_filtered_signal = ifft(yf[np.abs(yf) > signal_thres])\n",
    "plt.plot(new_filtered_signal.real)"
   ]
  },
  {
   "cell_type": "code",
   "execution_count": null,
   "id": "1532b537",
   "metadata": {},
   "outputs": [],
   "source": [
    "f2_dps = new_filtered_signal.real"
   ]
  },
  {
   "cell_type": "code",
   "execution_count": null,
   "id": "5f6c0f38",
   "metadata": {},
   "outputs": [],
   "source": [
    "%matplotlib widget\n",
    "f3_dps = signal.sosfilt(sos_filter, f2_dps)\n",
    "plt.plot(f3_dps)"
   ]
  },
  {
   "cell_type": "code",
   "execution_count": null,
   "id": "a8c11419",
   "metadata": {},
   "outputs": [],
   "source": [
    "%matplotlib widget\n",
    "plt.plot(f2_dps)"
   ]
  },
  {
   "cell_type": "code",
   "execution_count": null,
   "id": "57f17616",
   "metadata": {},
   "outputs": [],
   "source": [
    "np.average(f2_dps)"
   ]
  },
  {
   "cell_type": "code",
   "execution_count": null,
   "id": "3782451b",
   "metadata": {},
   "outputs": [],
   "source": [
    "%matplotlib widget\n",
    "plt.plot(t_dps, ax_dps)"
   ]
  },
  {
   "cell_type": "code",
   "execution_count": null,
   "id": "91f49439",
   "metadata": {},
   "outputs": [],
   "source": [
    "%matplotlib widget\n",
    "import scipy.signal\n",
    "savgol_filtered = signal.savgol_filter(ax_dps, 51, 10, deriv=0, delta=1.0, axis=- 1, mode='interp', cval=0.0)\n",
    "\n",
    "\n",
    "plt.plot(t_dps, ax_dps)\n",
    "plt.plot(t_dps, savgol_filtered)"
   ]
  },
  {
   "cell_type": "code",
   "execution_count": null,
   "id": "b1ff8542",
   "metadata": {},
   "outputs": [],
   "source": []
  }
 ],
 "metadata": {
  "kernelspec": {
   "display_name": "Python 3 (ipykernel)",
   "language": "python",
   "name": "python3"
  },
  "language_info": {
   "codemirror_mode": {
    "name": "ipython",
    "version": 3
   },
   "file_extension": ".py",
   "mimetype": "text/x-python",
   "name": "python",
   "nbconvert_exporter": "python",
   "pygments_lexer": "ipython3",
   "version": "3.9.5"
  }
 },
 "nbformat": 4,
 "nbformat_minor": 5
}
