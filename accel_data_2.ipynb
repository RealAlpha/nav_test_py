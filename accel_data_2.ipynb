{
 "cells": [
  {
   "cell_type": "code",
   "execution_count": 17,
   "id": "e1f92f34",
   "metadata": {},
   "outputs": [],
   "source": [
    "%matplotlib widget\n",
    "\n",
    "import pandas\n",
    "import numpy as np\n",
    "import scipy\n",
    "from scipy import stats\n",
    "import matplotlib.pyplot as plt\n",
    "\n",
    "calibration_data = pandas.read_feather('data_dump.bin')\n",
    "test_data = pandas.read_feather('data_dump_2.bin')"
   ]
  },
  {
   "cell_type": "code",
   "execution_count": 18,
   "id": "d3f3037e",
   "metadata": {},
   "outputs": [
    {
     "data": {
      "text/html": [
       "<div>\n",
       "<style scoped>\n",
       "    .dataframe tbody tr th:only-of-type {\n",
       "        vertical-align: middle;\n",
       "    }\n",
       "\n",
       "    .dataframe tbody tr th {\n",
       "        vertical-align: top;\n",
       "    }\n",
       "\n",
       "    .dataframe thead th {\n",
       "        text-align: right;\n",
       "    }\n",
       "</style>\n",
       "<table border=\"1\" class=\"dataframe\">\n",
       "  <thead>\n",
       "    <tr style=\"text-align: right;\">\n",
       "      <th></th>\n",
       "      <th>x</th>\n",
       "      <th>y</th>\n",
       "      <th>z</th>\n",
       "    </tr>\n",
       "  </thead>\n",
       "  <tbody>\n",
       "    <tr>\n",
       "      <th>count</th>\n",
       "      <td>275291.000000</td>\n",
       "      <td>275291.000000</td>\n",
       "      <td>275291.000000</td>\n",
       "    </tr>\n",
       "    <tr>\n",
       "      <th>mean</th>\n",
       "      <td>0.107415</td>\n",
       "      <td>-0.028098</td>\n",
       "      <td>-0.810965</td>\n",
       "    </tr>\n",
       "    <tr>\n",
       "      <th>std</th>\n",
       "      <td>0.042703</td>\n",
       "      <td>0.031004</td>\n",
       "      <td>0.084228</td>\n",
       "    </tr>\n",
       "    <tr>\n",
       "      <th>min</th>\n",
       "      <td>0.000000</td>\n",
       "      <td>-0.184000</td>\n",
       "      <td>-1.120000</td>\n",
       "    </tr>\n",
       "    <tr>\n",
       "      <th>25%</th>\n",
       "      <td>0.072000</td>\n",
       "      <td>-0.040000</td>\n",
       "      <td>-0.880000</td>\n",
       "    </tr>\n",
       "    <tr>\n",
       "      <th>50%</th>\n",
       "      <td>0.104000</td>\n",
       "      <td>-0.024000</td>\n",
       "      <td>-0.840000</td>\n",
       "    </tr>\n",
       "    <tr>\n",
       "      <th>75%</th>\n",
       "      <td>0.144000</td>\n",
       "      <td>0.000000</td>\n",
       "      <td>-0.752000</td>\n",
       "    </tr>\n",
       "    <tr>\n",
       "      <th>max</th>\n",
       "      <td>0.328000</td>\n",
       "      <td>0.120000</td>\n",
       "      <td>-0.424000</td>\n",
       "    </tr>\n",
       "  </tbody>\n",
       "</table>\n",
       "</div>"
      ],
      "text/plain": [
       "                   x              y              z\n",
       "count  275291.000000  275291.000000  275291.000000\n",
       "mean        0.107415      -0.028098      -0.810965\n",
       "std         0.042703       0.031004       0.084228\n",
       "min         0.000000      -0.184000      -1.120000\n",
       "25%         0.072000      -0.040000      -0.880000\n",
       "50%         0.104000      -0.024000      -0.840000\n",
       "75%         0.144000       0.000000      -0.752000\n",
       "max         0.328000       0.120000      -0.424000"
      ]
     },
     "execution_count": 18,
     "metadata": {},
     "output_type": "execute_result"
    }
   ],
   "source": [
    "calibration_data.describe()"
   ]
  },
  {
   "cell_type": "code",
   "execution_count": 19,
   "id": "335bc91e",
   "metadata": {},
   "outputs": [
    {
     "data": {
      "text/html": [
       "<div>\n",
       "<style scoped>\n",
       "    .dataframe tbody tr th:only-of-type {\n",
       "        vertical-align: middle;\n",
       "    }\n",
       "\n",
       "    .dataframe tbody tr th {\n",
       "        vertical-align: top;\n",
       "    }\n",
       "\n",
       "    .dataframe thead th {\n",
       "        text-align: right;\n",
       "    }\n",
       "</style>\n",
       "<table border=\"1\" class=\"dataframe\">\n",
       "  <thead>\n",
       "    <tr style=\"text-align: right;\">\n",
       "      <th></th>\n",
       "      <th>x</th>\n",
       "      <th>y</th>\n",
       "      <th>z</th>\n",
       "    </tr>\n",
       "  </thead>\n",
       "  <tbody>\n",
       "    <tr>\n",
       "      <th>count</th>\n",
       "      <td>3815.000000</td>\n",
       "      <td>3815.000000</td>\n",
       "      <td>3815.000000</td>\n",
       "    </tr>\n",
       "    <tr>\n",
       "      <th>mean</th>\n",
       "      <td>0.102990</td>\n",
       "      <td>-0.039633</td>\n",
       "      <td>-0.818841</td>\n",
       "    </tr>\n",
       "    <tr>\n",
       "      <th>std</th>\n",
       "      <td>0.111913</td>\n",
       "      <td>0.113110</td>\n",
       "      <td>0.087799</td>\n",
       "    </tr>\n",
       "    <tr>\n",
       "      <th>min</th>\n",
       "      <td>-0.696000</td>\n",
       "      <td>-0.672000</td>\n",
       "      <td>-1.064000</td>\n",
       "    </tr>\n",
       "    <tr>\n",
       "      <th>25%</th>\n",
       "      <td>0.056000</td>\n",
       "      <td>-0.072000</td>\n",
       "      <td>-0.880000</td>\n",
       "    </tr>\n",
       "    <tr>\n",
       "      <th>50%</th>\n",
       "      <td>0.104000</td>\n",
       "      <td>-0.032000</td>\n",
       "      <td>-0.848000</td>\n",
       "    </tr>\n",
       "    <tr>\n",
       "      <th>75%</th>\n",
       "      <td>0.152000</td>\n",
       "      <td>0.000000</td>\n",
       "      <td>-0.760000</td>\n",
       "    </tr>\n",
       "    <tr>\n",
       "      <th>max</th>\n",
       "      <td>2.044000</td>\n",
       "      <td>0.728000</td>\n",
       "      <td>-0.504000</td>\n",
       "    </tr>\n",
       "  </tbody>\n",
       "</table>\n",
       "</div>"
      ],
      "text/plain": [
       "                 x            y            z\n",
       "count  3815.000000  3815.000000  3815.000000\n",
       "mean      0.102990    -0.039633    -0.818841\n",
       "std       0.111913     0.113110     0.087799\n",
       "min      -0.696000    -0.672000    -1.064000\n",
       "25%       0.056000    -0.072000    -0.880000\n",
       "50%       0.104000    -0.032000    -0.848000\n",
       "75%       0.152000     0.000000    -0.760000\n",
       "max       2.044000     0.728000    -0.504000"
      ]
     },
     "execution_count": 19,
     "metadata": {},
     "output_type": "execute_result"
    }
   ],
   "source": [
    "test_data.describe()"
   ]
  },
  {
   "cell_type": "code",
   "execution_count": 20,
   "id": "26ddb2b8",
   "metadata": {},
   "outputs": [
    {
     "data": {
      "application/vnd.jupyter.widget-view+json": {
       "model_id": "ccc257da0404491f8264573223c25ee6",
       "version_major": 2,
       "version_minor": 0
      },
      "text/plain": [
       "Canvas(toolbar=Toolbar(toolitems=[('Home', 'Reset original view', 'home', 'home'), ('Back', 'Back to previous …"
      ]
     },
     "metadata": {},
     "output_type": "display_data"
    },
    {
     "data": {
      "text/plain": [
       "[<matplotlib.lines.Line2D at 0x15e40aa90>]"
      ]
     },
     "execution_count": 20,
     "metadata": {},
     "output_type": "execute_result"
    }
   ],
   "source": [
    "plt.plot(test_data['x'], test_data['y'])"
   ]
  },
  {
   "cell_type": "code",
   "execution_count": 21,
   "id": "87419bf1",
   "metadata": {},
   "outputs": [
    {
     "name": "stdout",
     "output_type": "stream",
     "text": [
      "-0.036099220064138654\n",
      "0.1357483111992603\n"
     ]
    }
   ],
   "source": [
    "rot_x_dps = np.arctan2(calibration_data['x'], np.hypot(calibration_data['y'], calibration_data['z']))\n",
    "avg_rot_x = np.average(rot_x_dps)\n",
    "\n",
    "rot_y_dps = np.arctan2(calibration_data['y'], np.hypot(calibration_data['x'], calibration_data['z']))\n",
    "avg_rot_y = np.average(rot_y_dps)\n",
    "\n",
    "\n",
    "pitch = avg_rot_y\n",
    "roll = avg_rot_x\n",
    "\n",
    "print(pitch)\n",
    "print(roll)"
   ]
  },
  {
   "cell_type": "code",
   "execution_count": 22,
   "id": "c9e901d7",
   "metadata": {},
   "outputs": [
    {
     "name": "stdout",
     "output_type": "stream",
     "text": [
      "               x         y         z\n",
      "0       0.102929 -0.054430 -0.740429\n",
      "1       0.030084 -0.028332 -0.841763\n",
      "2       0.073348 -0.026167 -0.771253\n",
      "3       0.120426 -0.048746 -0.725017\n",
      "4       0.039088 -0.021488 -0.842051\n",
      "...          ...       ...       ...\n",
      "275286  0.039369 -0.069972 -0.874319\n",
      "275287  0.066891 -0.041434 -0.891175\n",
      "275288  0.070189 -0.049958 -0.547110\n",
      "275289  0.028205 -0.044224 -0.833768\n",
      "275290  0.062218 -0.016573 -0.890886\n",
      "\n",
      "[275291 rows x 3 columns]\n"
     ]
    }
   ],
   "source": [
    "def get_rotation_matrix(yaw, pitch, roll):\n",
    "    return np.array([\n",
    "        [np.cos(roll) * np.cos(pitch), np.cos(pitch) * np.sin(roll), -np.sin(pitch)],\n",
    "        [np.cos(roll) * np.sin(yaw) * np.sin(pitch) - np.cos(yaw) * np.sin(roll),\n",
    "         np.cos(yaw) * np.cos(roll) + np.sin(yaw) * np.sin(roll) * np.sin(pitch), np.cos(pitch) * np.sin(yaw)],\n",
    "        [np.sin(yaw) * np.sin(roll) + np.cos(yaw) * np.cos(roll) * np.sin(pitch),\n",
    "         np.cos(yaw) * np.sin(roll) * np.sin(pitch) - np.cos(roll) * np.sin(yaw), np.cos(yaw) * np.cos(pitch)]])\n",
    "\n",
    "\n",
    "# Attempt to remove rotation from the dataframe\n",
    "rot_removed_df = calibration_data @ get_rotation_matrix(0, -pitch, -roll)\n",
    "rot_removed_df.columns = ['x', 'y', 'z']\n",
    "\n",
    "print(rot_removed_df)"
   ]
  },
  {
   "cell_type": "code",
   "execution_count": 23,
   "id": "8d329fd5",
   "metadata": {},
   "outputs": [
    {
     "name": "stdout",
     "output_type": "stream",
     "text": [
      "0.07361223946973729\n",
      "Calibration STD: [0.04196746 0.03433899 0.08329804]\n"
     ]
    }
   ],
   "source": [
    "# Remove gravity from calibration matrix and compute gains\n",
    "calibration_gains = np.average(rot_removed_df + np.array([0, 0, 1]))\n",
    "calibration_std = np.array(np.std(rot_removed_df))\n",
    "print(calibration_gains)\n",
    "print(f\"Calibration STD: {calibration_std}\")"
   ]
  },
  {
   "cell_type": "code",
   "execution_count": 24,
   "id": "01b58a69",
   "metadata": {},
   "outputs": [
    {
     "data": {
      "text/html": [
       "<div>\n",
       "<style scoped>\n",
       "    .dataframe tbody tr th:only-of-type {\n",
       "        vertical-align: middle;\n",
       "    }\n",
       "\n",
       "    .dataframe tbody tr th {\n",
       "        vertical-align: top;\n",
       "    }\n",
       "\n",
       "    .dataframe thead th {\n",
       "        text-align: right;\n",
       "    }\n",
       "</style>\n",
       "<table border=\"1\" class=\"dataframe\">\n",
       "  <thead>\n",
       "    <tr style=\"text-align: right;\">\n",
       "      <th></th>\n",
       "      <th>0</th>\n",
       "      <th>1</th>\n",
       "      <th>2</th>\n",
       "    </tr>\n",
       "  </thead>\n",
       "  <tbody>\n",
       "    <tr>\n",
       "      <th>count</th>\n",
       "      <td>3.815000e+03</td>\n",
       "      <td>3.815000e+03</td>\n",
       "      <td>3815.000000</td>\n",
       "    </tr>\n",
       "    <tr>\n",
       "      <th>mean</th>\n",
       "      <td>2.675426e-01</td>\n",
       "      <td>-1.086836e+00</td>\n",
       "      <td>-8.641999</td>\n",
       "    </tr>\n",
       "    <tr>\n",
       "      <th>std</th>\n",
       "      <td>2.429428e-01</td>\n",
       "      <td>9.760547e-01</td>\n",
       "      <td>7.737258</td>\n",
       "    </tr>\n",
       "    <tr>\n",
       "      <th>min</th>\n",
       "      <td>-1.793469e-07</td>\n",
       "      <td>-3.273613e+00</td>\n",
       "      <td>-25.947668</td>\n",
       "    </tr>\n",
       "    <tr>\n",
       "      <th>25%</th>\n",
       "      <td>4.856735e-02</td>\n",
       "      <td>-1.834469e+00</td>\n",
       "      <td>-14.579416</td>\n",
       "    </tr>\n",
       "    <tr>\n",
       "      <th>50%</th>\n",
       "      <td>1.945287e-01</td>\n",
       "      <td>-8.099621e-01</td>\n",
       "      <td>-6.475903</td>\n",
       "    </tr>\n",
       "    <tr>\n",
       "      <th>75%</th>\n",
       "      <td>4.501105e-01</td>\n",
       "      <td>-2.016960e-01</td>\n",
       "      <td>-1.616290</td>\n",
       "    </tr>\n",
       "    <tr>\n",
       "      <th>max</th>\n",
       "      <td>8.198489e-01</td>\n",
       "      <td>-3.584490e-07</td>\n",
       "      <td>-0.000004</td>\n",
       "    </tr>\n",
       "  </tbody>\n",
       "</table>\n",
       "</div>"
      ],
      "text/plain": [
       "                  0             1            2\n",
       "count  3.815000e+03  3.815000e+03  3815.000000\n",
       "mean   2.675426e-01 -1.086836e+00    -8.641999\n",
       "std    2.429428e-01  9.760547e-01     7.737258\n",
       "min   -1.793469e-07 -3.273613e+00   -25.947668\n",
       "25%    4.856735e-02 -1.834469e+00   -14.579416\n",
       "50%    1.945287e-01 -8.099621e-01    -6.475903\n",
       "75%    4.501105e-01 -2.016960e-01    -1.616290\n",
       "max    8.198489e-01 -3.584490e-07    -0.000004"
      ]
     },
     "execution_count": 24,
     "metadata": {},
     "output_type": "execute_result"
    }
   ],
   "source": [
    "# Stupid me did not record time - so guess a dt // that will only really scale it\n",
    "dt = 1/500\n",
    "\n",
    "v_dps = []\n",
    "p_dps = []\n",
    "\n",
    "v = np.zeros(3, dtype=np.float64)\n",
    "p = np.zeros(3, dtype=np.float64)\n",
    "\n",
    "# Perform semi-implicit euler integration using 2nd derivative/acceleration\n",
    "for i in range(len(test_data)):\n",
    "    measurement = test_data.loc[i] - calibration_gains\n",
    "    #print(measurement)\n",
    "    v += measurement * dt\n",
    "    p += v * dt\n",
    "    \n",
    "    v_dps.append(v.copy())\n",
    "    p_dps.append(p.copy())\n",
    "\n",
    "# Turn integrated points into NumPy arrays\n",
    "v_np = np.array(v_dps)\n",
    "p_np = np.array(p_dps)\n",
    "\n",
    "#print(p_np)\n",
    "#print(p_np[:, 0], p_np[:, 1])\n",
    "\n",
    "pos_df = pandas.DataFrame(p_np)\n",
    "\n",
    "plt.scatter(p_np[:, 0], p_np[:, 1])\n",
    "\n",
    "pos_df.describe()"
   ]
  },
  {
   "cell_type": "code",
   "execution_count": null,
   "id": "ebd06b93",
   "metadata": {},
   "outputs": [],
   "source": []
  },
  {
   "cell_type": "code",
   "execution_count": 25,
   "id": "a4497e33",
   "metadata": {},
   "outputs": [
    {
     "data": {
      "application/vnd.jupyter.widget-view+json": {
       "model_id": "e87c554294a149e697e3a903e41a0685",
       "version_major": 2,
       "version_minor": 0
      },
      "text/plain": [
       "Canvas(toolbar=Toolbar(toolitems=[('Home', 'Reset original view', 'home', 'home'), ('Back', 'Back to previous …"
      ]
     },
     "metadata": {},
     "output_type": "display_data"
    }
   ],
   "source": [
    "%matplotlib widget\n",
    "\n",
    "# Plot a vector field showing velocity in all points\n",
    "plt.quiver(p_np[:, 0], p_np[:, 1], v_np[:, 0], v_np[:, 1], scale=1)\n",
    "plt.show()"
   ]
  },
  {
   "cell_type": "code",
   "execution_count": 26,
   "id": "54e8fb85",
   "metadata": {},
   "outputs": [
    {
     "data": {
      "text/html": [
       "<div>\n",
       "<style scoped>\n",
       "    .dataframe tbody tr th:only-of-type {\n",
       "        vertical-align: middle;\n",
       "    }\n",
       "\n",
       "    .dataframe tbody tr th {\n",
       "        vertical-align: top;\n",
       "    }\n",
       "\n",
       "    .dataframe thead th {\n",
       "        text-align: right;\n",
       "    }\n",
       "</style>\n",
       "<table border=\"1\" class=\"dataframe\">\n",
       "  <thead>\n",
       "    <tr style=\"text-align: right;\">\n",
       "      <th></th>\n",
       "      <th>x</th>\n",
       "      <th>y</th>\n",
       "      <th>z</th>\n",
       "    </tr>\n",
       "  </thead>\n",
       "  <tbody>\n",
       "    <tr>\n",
       "      <th>count</th>\n",
       "      <td>3815.000000</td>\n",
       "      <td>3815.000000</td>\n",
       "      <td>3815.000000</td>\n",
       "    </tr>\n",
       "    <tr>\n",
       "      <th>mean</th>\n",
       "      <td>-0.006281</td>\n",
       "      <td>-0.122810</td>\n",
       "      <td>0.104363</td>\n",
       "    </tr>\n",
       "    <tr>\n",
       "      <th>std</th>\n",
       "      <td>0.110757</td>\n",
       "      <td>0.115105</td>\n",
       "      <td>0.086664</td>\n",
       "    </tr>\n",
       "    <tr>\n",
       "      <th>min</th>\n",
       "      <td>-0.813615</td>\n",
       "      <td>-0.743709</td>\n",
       "      <td>-0.139518</td>\n",
       "    </tr>\n",
       "    <tr>\n",
       "      <th>25%</th>\n",
       "      <td>-0.051062</td>\n",
       "      <td>-0.156346</td>\n",
       "      <td>0.041132</td>\n",
       "    </tr>\n",
       "    <tr>\n",
       "      <th>50%</th>\n",
       "      <td>-0.007293</td>\n",
       "      <td>-0.116675</td>\n",
       "      <td>0.077028</td>\n",
       "    </tr>\n",
       "    <tr>\n",
       "      <th>75%</th>\n",
       "      <td>0.039317</td>\n",
       "      <td>-0.081509</td>\n",
       "      <td>0.162741</td>\n",
       "    </tr>\n",
       "    <tr>\n",
       "      <th>max</th>\n",
       "      <td>1.969210</td>\n",
       "      <td>0.627482</td>\n",
       "      <td>0.417519</td>\n",
       "    </tr>\n",
       "  </tbody>\n",
       "</table>\n",
       "</div>"
      ],
      "text/plain": [
       "                 x            y            z\n",
       "count  3815.000000  3815.000000  3815.000000\n",
       "mean     -0.006281    -0.122810     0.104363\n",
       "std       0.110757     0.115105     0.086664\n",
       "min      -0.813615    -0.743709    -0.139518\n",
       "25%      -0.051062    -0.156346     0.041132\n",
       "50%      -0.007293    -0.116675     0.077028\n",
       "75%       0.039317    -0.081509     0.162741\n",
       "max       1.969210     0.627482     0.417519"
      ]
     },
     "execution_count": 26,
     "metadata": {},
     "output_type": "execute_result"
    }
   ],
   "source": [
    "# First measurement data processing - gets rid of gravity, rotation and applies calibration gains\n",
    "p1_measurement_data = test_data @ get_rotation_matrix(0, -pitch, -roll) - calibration_gains + [0, 0, 1]\n",
    "p1_measurement_data.columns = ['x', 'y', 'z']\n",
    "\n",
    "p1_measurement_data.describe()"
   ]
  },
  {
   "cell_type": "code",
   "execution_count": 54,
   "id": "a1d5005b",
   "metadata": {},
   "outputs": [
    {
     "data": {
      "application/vnd.jupyter.widget-view+json": {
       "model_id": "b34565db81844972bb36e286089c3499",
       "version_major": 2,
       "version_minor": 0
      },
      "text/plain": [
       "Canvas(toolbar=Toolbar(toolitems=[('Home', 'Reset original view', 'home', 'home'), ('Back', 'Back to previous …"
      ]
     },
     "metadata": {},
     "output_type": "display_data"
    },
    {
     "data": {
      "text/plain": [
       "<AxesSubplot:>"
      ]
     },
     "execution_count": 54,
     "metadata": {},
     "output_type": "execute_result"
    }
   ],
   "source": [
    "# Filter out DPs that are less than 2 stdevs from a 0 value. Also include DP number \n",
    "\n",
    "NUM_STDEVS = 0\n",
    "p2_measurement_data = p1_measurement_data[np.logical_and(np.abs(p1_measurement_data['x']) > NUM_STDEVS*calibration_std[0], np.abs(p1_measurement_data['y']) > NUM_STDEVS*calibration_std[1])]\n",
    "p2_measurement_data.plot()"
   ]
  },
  {
   "cell_type": "code",
   "execution_count": 55,
   "id": "e60ce2b6",
   "metadata": {},
   "outputs": [
    {
     "data": {
      "text/html": [
       "<div>\n",
       "<style scoped>\n",
       "    .dataframe tbody tr th:only-of-type {\n",
       "        vertical-align: middle;\n",
       "    }\n",
       "\n",
       "    .dataframe tbody tr th {\n",
       "        vertical-align: top;\n",
       "    }\n",
       "\n",
       "    .dataframe thead th {\n",
       "        text-align: right;\n",
       "    }\n",
       "</style>\n",
       "<table border=\"1\" class=\"dataframe\">\n",
       "  <thead>\n",
       "    <tr style=\"text-align: right;\">\n",
       "      <th></th>\n",
       "      <th>x</th>\n",
       "      <th>y</th>\n",
       "      <th>z</th>\n",
       "    </tr>\n",
       "  </thead>\n",
       "  <tbody>\n",
       "    <tr>\n",
       "      <th>0</th>\n",
       "      <td>-0.067354</td>\n",
       "      <td>-0.090616</td>\n",
       "      <td>0.053512</td>\n",
       "    </tr>\n",
       "    <tr>\n",
       "      <th>1</th>\n",
       "      <td>-0.009740</td>\n",
       "      <td>-0.082337</td>\n",
       "      <td>0.051491</td>\n",
       "    </tr>\n",
       "    <tr>\n",
       "      <th>2</th>\n",
       "      <td>-0.022564</td>\n",
       "      <td>-0.112882</td>\n",
       "      <td>0.035790</td>\n",
       "    </tr>\n",
       "    <tr>\n",
       "      <th>3</th>\n",
       "      <td>0.007977</td>\n",
       "      <td>-0.117054</td>\n",
       "      <td>0.002656</td>\n",
       "    </tr>\n",
       "    <tr>\n",
       "      <th>4</th>\n",
       "      <td>0.047672</td>\n",
       "      <td>-0.122475</td>\n",
       "      <td>0.225355</td>\n",
       "    </tr>\n",
       "    <tr>\n",
       "      <th>...</th>\n",
       "      <td>...</td>\n",
       "      <td>...</td>\n",
       "      <td>...</td>\n",
       "    </tr>\n",
       "    <tr>\n",
       "      <th>3810</th>\n",
       "      <td>-0.064616</td>\n",
       "      <td>-0.074841</td>\n",
       "      <td>0.069502</td>\n",
       "    </tr>\n",
       "    <tr>\n",
       "      <th>3811</th>\n",
       "      <td>-0.024438</td>\n",
       "      <td>-0.080329</td>\n",
       "      <td>0.084048</td>\n",
       "    </tr>\n",
       "    <tr>\n",
       "      <th>3812</th>\n",
       "      <td>0.020251</td>\n",
       "      <td>-0.126804</td>\n",
       "      <td>0.154268</td>\n",
       "    </tr>\n",
       "    <tr>\n",
       "      <th>3813</th>\n",
       "      <td>0.035331</td>\n",
       "      <td>-0.153087</td>\n",
       "      <td>0.001501</td>\n",
       "    </tr>\n",
       "    <tr>\n",
       "      <th>3814</th>\n",
       "      <td>-0.034934</td>\n",
       "      <td>-0.078895</td>\n",
       "      <td>0.012383</td>\n",
       "    </tr>\n",
       "  </tbody>\n",
       "</table>\n",
       "<p>3815 rows × 3 columns</p>\n",
       "</div>"
      ],
      "text/plain": [
       "             x         y         z\n",
       "0    -0.067354 -0.090616  0.053512\n",
       "1    -0.009740 -0.082337  0.051491\n",
       "2    -0.022564 -0.112882  0.035790\n",
       "3     0.007977 -0.117054  0.002656\n",
       "4     0.047672 -0.122475  0.225355\n",
       "...        ...       ...       ...\n",
       "3810 -0.064616 -0.074841  0.069502\n",
       "3811 -0.024438 -0.080329  0.084048\n",
       "3812  0.020251 -0.126804  0.154268\n",
       "3813  0.035331 -0.153087  0.001501\n",
       "3814 -0.034934 -0.078895  0.012383\n",
       "\n",
       "[3815 rows x 3 columns]"
      ]
     },
     "execution_count": 55,
     "metadata": {},
     "output_type": "execute_result"
    }
   ],
   "source": [
    "# Filter out datapoints that \n",
    "filtered_data = p2_measurement_data\n",
    "filtered_data"
   ]
  },
  {
   "cell_type": "code",
   "execution_count": 78,
   "id": "c0d58862",
   "metadata": {},
   "outputs": [
    {
     "data": {
      "text/plain": [
       "array([[ 0.00000000e+00,  0.00000000e+00,  0.00000000e+00],\n",
       "       [-9.73953079e-07, -8.23365069e-06,  5.14911013e-06],\n",
       "       [-4.20425974e-06, -2.77555034e-05,  1.38772459e-05],\n",
       "       ...,\n",
       "       [-5.30752831e+00, -8.85640991e+01,  7.68243828e+01],\n",
       "       [-5.30991418e+00, -8.86109342e+01,  7.68641906e+01],\n",
       "       [-5.31230355e+00, -8.86577771e+01,  7.69039997e+01]])"
      ]
     },
     "execution_count": 78,
     "metadata": {},
     "output_type": "execute_result"
    }
   ],
   "source": [
    "v_dps = []\n",
    "p_dps = []\n",
    "\n",
    "v = np.zeros(3, dtype=np.float64)\n",
    "p = np.zeros(3, dtype=np.float64)\n",
    "\n",
    "# Perform semi-implicit euler integration using 2nd derivative/acceleration\n",
    "last_i = 0\n",
    "\n",
    "DT_PER_I = 1/100\n",
    "\n",
    "for i in filtered_data.index:\n",
    "    measurement = filtered_data.loc[i]\n",
    "    \n",
    "    # Compute dt\n",
    "    dt = (i - last_i) * DT_PER_I\n",
    "    last_i = i\n",
    "    \n",
    "    #print(measurement)\n",
    "    #v += (measurement - -0.006280741567885446) * dt\n",
    "    v += measurement * dt\n",
    "    p += v * dt\n",
    "    \n",
    "    v_dps.append(v.copy())\n",
    "    p_dps.append(p.copy())\n",
    "\n",
    "# Turn integrated points into NumPy arrays\n",
    "v_np = np.array(v_dps)\n",
    "p_np = np.array(p_dps)\n",
    "\n",
    "p_np"
   ]
  },
  {
   "cell_type": "code",
   "execution_count": 79,
   "id": "d9e6d598",
   "metadata": {},
   "outputs": [
    {
     "data": {
      "application/vnd.jupyter.widget-view+json": {
       "model_id": "c15806e586fb4e849e55813080d9235c",
       "version_major": 2,
       "version_minor": 0
      },
      "text/plain": [
       "Canvas(toolbar=Toolbar(toolitems=[('Home', 'Reset original view', 'home', 'home'), ('Back', 'Back to previous …"
      ]
     },
     "metadata": {},
     "output_type": "display_data"
    },
    {
     "data": {
      "text/plain": [
       "<matplotlib.collections.PathCollection at 0x1600bbc10>"
      ]
     },
     "execution_count": 79,
     "metadata": {},
     "output_type": "execute_result"
    }
   ],
   "source": [
    "%matplotlib widget\n",
    "\n",
    "pos_df = pandas.DataFrame(p_np)\n",
    "plt.scatter(p_np[:, 0], p_np[:, 1])"
   ]
  },
  {
   "cell_type": "code",
   "execution_count": 80,
   "id": "7e7beb1c",
   "metadata": {},
   "outputs": [
    {
     "data": {
      "application/vnd.jupyter.widget-view+json": {
       "model_id": "28051acff9a44d0ca42558b5108f7685",
       "version_major": 2,
       "version_minor": 0
      },
      "text/plain": [
       "Canvas(toolbar=Toolbar(toolitems=[('Home', 'Reset original view', 'home', 'home'), ('Back', 'Back to previous …"
      ]
     },
     "metadata": {},
     "output_type": "display_data"
    },
    {
     "data": {
      "text/plain": [
       "<matplotlib.collections.PathCollection at 0x1602145e0>"
      ]
     },
     "execution_count": 80,
     "metadata": {},
     "output_type": "execute_result"
    }
   ],
   "source": [
    "%matplotlib widget\n",
    "\n",
    "plt.scatter(v_np[:, 0], v_np[:, 1])"
   ]
  },
  {
   "cell_type": "code",
   "execution_count": 84,
   "id": "29bbc6d6",
   "metadata": {},
   "outputs": [
    {
     "data": {
      "application/vnd.jupyter.widget-view+json": {
       "model_id": "13c4f05627924799afea5f0520605338",
       "version_major": 2,
       "version_minor": 0
      },
      "text/plain": [
       "Canvas(toolbar=Toolbar(toolitems=[('Home', 'Reset original view', 'home', 'home'), ('Back', 'Back to previous …"
      ]
     },
     "metadata": {},
     "output_type": "display_data"
    },
    {
     "data": {
      "text/plain": [
       "[<matplotlib.lines.Line2D at 0x1605634c0>]"
      ]
     },
     "execution_count": 84,
     "metadata": {},
     "output_type": "execute_result"
    }
   ],
   "source": [
    "%matplotlib widget\n",
    "filtered_data_np = np.array(filtered_data)\n",
    "\n",
    "axis = 0\n",
    "\n",
    "plt.subplot(3, 1, 1)\n",
    "plt.title(\"Acceleration\")\n",
    "plt.plot(filtered_data_np[:, axis])\n",
    "\n",
    "plt.subplot(3, 1, 2)\n",
    "plt.title(\"Velocity\")\n",
    "plt.plot(v_np[:, axis])\n",
    "\n",
    "plt.subplot(3, 1, 3)\n",
    "plt.title(\"Position\")\n",
    "plt.plot(p_np[:, axis])"
   ]
  },
  {
   "cell_type": "code",
   "execution_count": 82,
   "id": "bae0ea74",
   "metadata": {},
   "outputs": [
    {
     "data": {
      "text/plain": [
       "-0.006280741567885446"
      ]
     },
     "execution_count": 82,
     "metadata": {},
     "output_type": "execute_result"
    }
   ],
   "source": [
    "np.average(filtered_data_np[:, 0])"
   ]
  },
  {
   "cell_type": "code",
   "execution_count": 74,
   "id": "348ea429",
   "metadata": {},
   "outputs": [],
   "source": [
    "# NOTE: I am aware accel data is still in g's, but that only really scales things"
   ]
  },
  {
   "cell_type": "code",
   "execution_count": 180,
   "id": "03fcc02b",
   "metadata": {},
   "outputs": [
    {
     "data": {
      "application/vnd.jupyter.widget-view+json": {
       "model_id": "1a1500efbf0a49bd9fb241fc458cba9e",
       "version_major": 2,
       "version_minor": 0
      },
      "text/plain": [
       "Canvas(toolbar=Toolbar(toolitems=[('Home', 'Reset original view', 'home', 'home'), ('Back', 'Back to previous …"
      ]
     },
     "metadata": {},
     "output_type": "display_data"
    },
    {
     "data": {
      "text/plain": [
       "<matplotlib.collections.PolyCollection at 0x16275de80>"
      ]
     },
     "execution_count": 180,
     "metadata": {},
     "output_type": "execute_result"
    }
   ],
   "source": [
    "%matplotlib widget\n",
    "\n",
    "# Just work with x datapoints to make life easier (assume 100Hz const sample rate )\n",
    "t_dps = np.array(list(range(len(filtered_data_np)))) / 100\n",
    "ax_dps = filtered_data_np[:, 0]\n",
    "\n",
    "# Get the samples that almost certainly lie within the noise (-> deviate less than 1.8 STD)\n",
    "noise_thres = 1.8 * calibration_std[0]\n",
    "noise_thres_dps = ax_dps[np.abs(ax_dps) < noise_thres]\n",
    "noise_avg = np.average(noise_thres_dps)\n",
    "\n",
    "plt.plot(t_dps, ax_dps, zorder=1)\n",
    "plt.axhline(noise_avg, np.min(t_dps), np.max(t_dps), color='orange')\n",
    "plt.fill_between(t_dps, -noise_thres, +noise_thres, color='orange', alpha=0.5, zorder=2)"
   ]
  },
  {
   "cell_type": "code",
   "execution_count": 181,
   "id": "3b18aa21",
   "metadata": {},
   "outputs": [
    {
     "data": {
      "application/vnd.jupyter.widget-view+json": {
       "model_id": "6575460cb60843228a434632b38ad5fa",
       "version_major": 2,
       "version_minor": 0
      },
      "text/plain": [
       "Canvas(toolbar=Toolbar(toolitems=[('Home', 'Reset original view', 'home', 'home'), ('Back', 'Back to previous …"
      ]
     },
     "metadata": {},
     "output_type": "display_data"
    },
    {
     "data": {
      "text/plain": [
       "[<matplotlib.lines.Line2D at 0x1627d3610>]"
      ]
     },
     "execution_count": 181,
     "metadata": {},
     "output_type": "execute_result"
    }
   ],
   "source": [
    "%matplotlib widget\n",
    "\n",
    "# Based on: https://realpython.com/python-scipy-fft/\n",
    "from scipy.fft import fft, fftfreq, irfft\n",
    "SAMPLE_RATE = 100\n",
    "DURATION = len(t_dps) / SAMPLE_RATE\n",
    "N = int(SAMPLE_RATE * DURATION)\n",
    "yf = fft(ax_dps)\n",
    "xf = fftfreq(N, 1 / SAMPLE_RATE)\n",
    "\n",
    "plt.plot(xf, np.abs(yf))"
   ]
  },
  {
   "cell_type": "code",
   "execution_count": 182,
   "id": "88725724",
   "metadata": {},
   "outputs": [
    {
     "data": {
      "application/vnd.jupyter.widget-view+json": {
       "model_id": "0c941efc54bf4dd49fef5f6ba8b52dc2",
       "version_major": 2,
       "version_minor": 0
      },
      "text/plain": [
       "Canvas(toolbar=Toolbar(toolitems=[('Home', 'Reset original view', 'home', 'home'), ('Back', 'Back to previous …"
      ]
     },
     "metadata": {},
     "output_type": "display_data"
    },
    {
     "data": {
      "text/plain": [
       "[<matplotlib.lines.Line2D at 0x162834700>]"
      ]
     },
     "execution_count": 182,
     "metadata": {},
     "output_type": "execute_result"
    }
   ],
   "source": [
    "# Similar to last one, but now on the calibration data set's x dps\n",
    "%matplotlib widget\n",
    "\n",
    "SAMPLE_RATE = 500\n",
    "DURATION = len(rot_removed_df) / SAMPLE_RATE\n",
    "N = int(SAMPLE_RATE * DURATION)\n",
    "yf = fft(np.array(rot_removed_df)[:, 0])\n",
    "xf = fftfreq(N, 1 / SAMPLE_RATE)\n",
    "\n",
    "plt.plot(xf, np.abs(yf))"
   ]
  },
  {
   "cell_type": "code",
   "execution_count": 183,
   "id": "236fa782",
   "metadata": {},
   "outputs": [
    {
     "data": {
      "application/vnd.jupyter.widget-view+json": {
       "model_id": "a98b75013b5949e097857d4b8484ee2b",
       "version_major": 2,
       "version_minor": 0
      },
      "text/plain": [
       "Canvas(toolbar=Toolbar(toolitems=[('Home', 'Reset original view', 'home', 'home'), ('Back', 'Back to previous …"
      ]
     },
     "metadata": {},
     "output_type": "display_data"
    },
    {
     "data": {
      "text/plain": [
       "[<matplotlib.lines.Line2D at 0x16287b310>]"
      ]
     },
     "execution_count": 183,
     "metadata": {},
     "output_type": "execute_result"
    }
   ],
   "source": [
    "%matplotlib widget\n",
    "from scipy import signal\n",
    "sos_filter = signal.butter(10, 0.0001, 'lp', fs=1/SAMPLE_RATE, output='sos')\n",
    "filtered = signal.sosfilt(sos_filter, ax_dps)\n",
    "\n",
    "\n",
    "plt.plot(t_dps, filtered, zorder=1)"
   ]
  },
  {
   "cell_type": "code",
   "execution_count": 184,
   "id": "9dd9c9cb",
   "metadata": {},
   "outputs": [],
   "source": [
    "# NOTE: Because we end stationary/don't rotate, the sum of all acceleration (times the timestep, which is assumed constant -> can drop out) should be 0 -> we can just average the entire dataset under these idealized assumptions\n",
    "filtered_normed = filtered - np.average(filtered)"
   ]
  },
  {
   "cell_type": "code",
   "execution_count": 185,
   "id": "cbb14917",
   "metadata": {},
   "outputs": [
    {
     "data": {
      "text/plain": [
       "0.040139630970043534"
      ]
     },
     "execution_count": 185,
     "metadata": {},
     "output_type": "execute_result"
    }
   ],
   "source": [
    "np.std(filtered_normed)"
   ]
  },
  {
   "cell_type": "code",
   "execution_count": 186,
   "id": "e8dcc411",
   "metadata": {},
   "outputs": [
    {
     "data": {
      "application/vnd.jupyter.widget-view+json": {
       "model_id": "b5e7e1573c674bc0acebefd4af25e987",
       "version_major": 2,
       "version_minor": 0
      },
      "text/plain": [
       "Canvas(toolbar=Toolbar(toolitems=[('Home', 'Reset original view', 'home', 'home'), ('Back', 'Back to previous …"
      ]
     },
     "metadata": {},
     "output_type": "display_data"
    },
    {
     "data": {
      "text/plain": [
       "[<matplotlib.lines.Line2D at 0x1628eaeb0>]"
      ]
     },
     "execution_count": 186,
     "metadata": {},
     "output_type": "execute_result"
    }
   ],
   "source": [
    "# Run another FFT on the filtered data to see what kind of difference it made\n",
    "%matplotlib widget\n",
    "\n",
    "# Based on: https://realpython.com/python-scipy-fft/\n",
    "from scipy.fft import fft, fftfreq\n",
    "SAMPLE_RATE = 100\n",
    "DURATION = len(filtered_normed) / SAMPLE_RATE\n",
    "N = int(SAMPLE_RATE * DURATION)\n",
    "yf = fft(filtered_normed)\n",
    "xf = fftfreq(N, 1 / SAMPLE_RATE)\n",
    "\n",
    "plt.plot(xf, np.abs(yf))"
   ]
  },
  {
   "cell_type": "code",
   "execution_count": 187,
   "id": "26f1053a",
   "metadata": {},
   "outputs": [
    {
     "data": {
      "application/vnd.jupyter.widget-view+json": {
       "model_id": "a11dbed58588426b8aa3f19ca7ff0578",
       "version_major": 2,
       "version_minor": 0
      },
      "text/plain": [
       "Canvas(toolbar=Toolbar(toolitems=[('Home', 'Reset original view', 'home', 'home'), ('Back', 'Back to previous …"
      ]
     },
     "metadata": {},
     "output_type": "display_data"
    },
    {
     "data": {
      "text/plain": [
       "[<matplotlib.lines.Line2D at 0x16296e550>]"
      ]
     },
     "execution_count": 187,
     "metadata": {},
     "output_type": "execute_result"
    }
   ],
   "source": [
    "%matplotlib widget\n",
    "dt = 1/SAMPLE_RATE\n",
    "x = 0\n",
    "vx = 0\n",
    "\n",
    "t_dps = []\n",
    "x_dps = []\n",
    "vx_dps = []\n",
    "\n",
    "for i in range(len(filtered_normed)):\n",
    "    vx += filtered_normed[i] * dt\n",
    "    x += vx * dt\n",
    "    \n",
    "    t_dps.append(i * dt)\n",
    "    x_dps.append(x)\n",
    "    vx_dps.append(vx)\n",
    "\n",
    "plt.plot(t_dps, x_dps)\n"
   ]
  },
  {
   "cell_type": "code",
   "execution_count": 203,
   "id": "e81b28b1",
   "metadata": {},
   "outputs": [
    {
     "data": {
      "application/vnd.jupyter.widget-view+json": {
       "model_id": "0d0e1a77c4194c54afd980a64d70e0b0",
       "version_major": 2,
       "version_minor": 0
      },
      "text/plain": [
       "Canvas(toolbar=Toolbar(toolitems=[('Home', 'Reset original view', 'home', 'home'), ('Back', 'Back to previous …"
      ]
     },
     "metadata": {},
     "output_type": "display_data"
    },
    {
     "data": {
      "text/plain": [
       "[<matplotlib.lines.Line2D at 0x162ee0340>]"
      ]
     },
     "execution_count": 203,
     "metadata": {},
     "output_type": "execute_result"
    }
   ],
   "source": [
    "%matplotlib widget\n",
    "# NOTE: FFT appears to change magnitude as well, or at least, it appears to do so when filtering frequencies\n",
    "from scipy.fft import ifft\n",
    "signal_thres = 13\n",
    "new_filtered_signal = ifft(yf[np.abs(yf) > signal_thres])\n",
    "plt.plot(new_filtered_signal.real)"
   ]
  },
  {
   "cell_type": "code",
   "execution_count": 208,
   "id": "3c1d11c8",
   "metadata": {},
   "outputs": [],
   "source": [
    "f2_dps = new_filtered_signal.real"
   ]
  },
  {
   "cell_type": "code",
   "execution_count": 211,
   "id": "05483901",
   "metadata": {},
   "outputs": [
    {
     "data": {
      "application/vnd.jupyter.widget-view+json": {
       "model_id": "8e99bcc8f25941b0b57623237267cb6c",
       "version_major": 2,
       "version_minor": 0
      },
      "text/plain": [
       "Canvas(toolbar=Toolbar(toolitems=[('Home', 'Reset original view', 'home', 'home'), ('Back', 'Back to previous …"
      ]
     },
     "metadata": {},
     "output_type": "display_data"
    },
    {
     "data": {
      "text/plain": [
       "[<matplotlib.lines.Line2D at 0x162f600a0>]"
      ]
     },
     "execution_count": 211,
     "metadata": {},
     "output_type": "execute_result"
    }
   ],
   "source": [
    "%matplotlib widget\n",
    "f3_dps = signal.sosfilt(sos_filter, f2_dps)\n",
    "plt.plot(f3_dps)"
   ]
  },
  {
   "cell_type": "code",
   "execution_count": 212,
   "id": "e6257492",
   "metadata": {},
   "outputs": [
    {
     "data": {
      "application/vnd.jupyter.widget-view+json": {
       "model_id": "927a06c83078433ba727a034e1818303",
       "version_major": 2,
       "version_minor": 0
      },
      "text/plain": [
       "Canvas(toolbar=Toolbar(toolitems=[('Home', 'Reset original view', 'home', 'home'), ('Back', 'Back to previous …"
      ]
     },
     "metadata": {},
     "output_type": "display_data"
    },
    {
     "data": {
      "text/plain": [
       "[<matplotlib.lines.Line2D at 0x162fc61c0>]"
      ]
     },
     "execution_count": 212,
     "metadata": {},
     "output_type": "execute_result"
    }
   ],
   "source": [
    "%matplotlib widget\n",
    "plt.plot(f2_dps)"
   ]
  },
  {
   "cell_type": "code",
   "execution_count": 213,
   "id": "74554dbb",
   "metadata": {},
   "outputs": [
    {
     "data": {
      "text/plain": [
       "0.4479926712251932"
      ]
     },
     "execution_count": 213,
     "metadata": {},
     "output_type": "execute_result"
    }
   ],
   "source": [
    "np.average(f2_dps)"
   ]
  },
  {
   "cell_type": "code",
   "execution_count": 217,
   "id": "7e02f7e1",
   "metadata": {},
   "outputs": [
    {
     "data": {
      "application/vnd.jupyter.widget-view+json": {
       "model_id": "89c20bec08c64871bd2be83ff6f9ed80",
       "version_major": 2,
       "version_minor": 0
      },
      "text/plain": [
       "Canvas(toolbar=Toolbar(toolitems=[('Home', 'Reset original view', 'home', 'home'), ('Back', 'Back to previous …"
      ]
     },
     "metadata": {},
     "output_type": "display_data"
    },
    {
     "data": {
      "text/plain": [
       "[<matplotlib.lines.Line2D at 0x1630106d0>]"
      ]
     },
     "execution_count": 217,
     "metadata": {},
     "output_type": "execute_result"
    }
   ],
   "source": [
    "%matplotlib widget\n",
    "plt.plot(t_dps, ax_dps)"
   ]
  },
  {
   "cell_type": "code",
   "execution_count": 233,
   "id": "682ae531",
   "metadata": {},
   "outputs": [
    {
     "data": {
      "application/vnd.jupyter.widget-view+json": {
       "model_id": "e02cab7039be444ead42e3bed8444cc6",
       "version_major": 2,
       "version_minor": 0
      },
      "text/plain": [
       "Canvas(toolbar=Toolbar(toolitems=[('Home', 'Reset original view', 'home', 'home'), ('Back', 'Back to previous …"
      ]
     },
     "metadata": {},
     "output_type": "display_data"
    },
    {
     "data": {
      "text/plain": [
       "[<matplotlib.lines.Line2D at 0x16573e2b0>]"
      ]
     },
     "execution_count": 233,
     "metadata": {},
     "output_type": "execute_result"
    }
   ],
   "source": [
    "%matplotlib widget\n",
    "import scipy.signal\n",
    "savgol_filtered = signal.savgol_filter(ax_dps, 51, 10, deriv=0, delta=1.0, axis=- 1, mode='interp', cval=0.0)\n",
    "\n",
    "\n",
    "plt.plot(t_dps, ax_dps)\n",
    "plt.plot(t_dps, savgol_filtered)"
   ]
  },
  {
   "cell_type": "code",
   "execution_count": null,
   "id": "5c8f2d36",
   "metadata": {},
   "outputs": [],
   "source": []
  }
 ],
 "metadata": {
  "kernelspec": {
   "display_name": "Python 3 (ipykernel)",
   "language": "python",
   "name": "python3"
  },
  "language_info": {
   "codemirror_mode": {
    "name": "ipython",
    "version": 3
   },
   "file_extension": ".py",
   "mimetype": "text/x-python",
   "name": "python",
   "nbconvert_exporter": "python",
   "pygments_lexer": "ipython3",
   "version": "3.9.5"
  }
 },
 "nbformat": 4,
 "nbformat_minor": 5
}
