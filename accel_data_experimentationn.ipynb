{
 "cells": [
  {
   "cell_type": "code",
   "execution_count": 40,
   "metadata": {},
   "outputs": [],
   "source": [
    "import pandas\n",
    "import numpy as np\n",
    "import scipy\n",
    "from scipy import stats\n",
    "import matplotlib.pyplot as plt\n",
    "\n",
    "df = pandas.read_feather('data_dump.bin')\n",
    "\n"
   ]
  },
  {
   "cell_type": "code",
   "execution_count": 2,
   "metadata": {
    "scrolled": true
   },
   "outputs": [
    {
     "data": {
      "text/html": [
       "<div>\n",
       "<style scoped>\n",
       "    .dataframe tbody tr th:only-of-type {\n",
       "        vertical-align: middle;\n",
       "    }\n",
       "\n",
       "    .dataframe tbody tr th {\n",
       "        vertical-align: top;\n",
       "    }\n",
       "\n",
       "    .dataframe thead th {\n",
       "        text-align: right;\n",
       "    }\n",
       "</style>\n",
       "<table border=\"1\" class=\"dataframe\">\n",
       "  <thead>\n",
       "    <tr style=\"text-align: right;\">\n",
       "      <th></th>\n",
       "      <th>x</th>\n",
       "      <th>y</th>\n",
       "      <th>z</th>\n",
       "    </tr>\n",
       "  </thead>\n",
       "  <tbody>\n",
       "    <tr>\n",
       "      <th>0</th>\n",
       "      <td>0.072</td>\n",
       "      <td>-0.048</td>\n",
       "      <td>-0.856</td>\n",
       "    </tr>\n",
       "    <tr>\n",
       "      <th>1</th>\n",
       "      <td>0.072</td>\n",
       "      <td>0.000</td>\n",
       "      <td>-0.848</td>\n",
       "    </tr>\n",
       "    <tr>\n",
       "      <th>2</th>\n",
       "      <td>0.032</td>\n",
       "      <td>0.000</td>\n",
       "      <td>-0.848</td>\n",
       "    </tr>\n",
       "    <tr>\n",
       "      <th>3</th>\n",
       "      <td>0.128</td>\n",
       "      <td>-0.120</td>\n",
       "      <td>-0.984</td>\n",
       "    </tr>\n",
       "    <tr>\n",
       "      <th>4</th>\n",
       "      <td>0.048</td>\n",
       "      <td>-0.032</td>\n",
       "      <td>-0.840</td>\n",
       "    </tr>\n",
       "    <tr>\n",
       "      <th>...</th>\n",
       "      <td>...</td>\n",
       "      <td>...</td>\n",
       "      <td>...</td>\n",
       "    </tr>\n",
       "    <tr>\n",
       "      <th>44760</th>\n",
       "      <td>0.120</td>\n",
       "      <td>0.016</td>\n",
       "      <td>-0.776</td>\n",
       "    </tr>\n",
       "    <tr>\n",
       "      <th>44761</th>\n",
       "      <td>0.088</td>\n",
       "      <td>-0.056</td>\n",
       "      <td>-0.760</td>\n",
       "    </tr>\n",
       "    <tr>\n",
       "      <th>44762</th>\n",
       "      <td>0.168</td>\n",
       "      <td>-0.024</td>\n",
       "      <td>-0.736</td>\n",
       "    </tr>\n",
       "    <tr>\n",
       "      <th>44763</th>\n",
       "      <td>0.056</td>\n",
       "      <td>0.280</td>\n",
       "      <td>-1.000</td>\n",
       "    </tr>\n",
       "    <tr>\n",
       "      <th>44764</th>\n",
       "      <td>0.112</td>\n",
       "      <td>0.040</td>\n",
       "      <td>-0.848</td>\n",
       "    </tr>\n",
       "  </tbody>\n",
       "</table>\n",
       "<p>44765 rows × 3 columns</p>\n",
       "</div>"
      ],
      "text/plain": [
       "           x      y      z\n",
       "0      0.072 -0.048 -0.856\n",
       "1      0.072  0.000 -0.848\n",
       "2      0.032  0.000 -0.848\n",
       "3      0.128 -0.120 -0.984\n",
       "4      0.048 -0.032 -0.840\n",
       "...      ...    ...    ...\n",
       "44760  0.120  0.016 -0.776\n",
       "44761  0.088 -0.056 -0.760\n",
       "44762  0.168 -0.024 -0.736\n",
       "44763  0.056  0.280 -1.000\n",
       "44764  0.112  0.040 -0.848\n",
       "\n",
       "[44765 rows x 3 columns]"
      ]
     },
     "execution_count": 2,
     "metadata": {},
     "output_type": "execute_result"
    }
   ],
   "source": [
    "df"
   ]
  },
  {
   "cell_type": "code",
   "execution_count": 3,
   "metadata": {
    "scrolled": true
   },
   "outputs": [
    {
     "data": {
      "text/html": [
       "<div>\n",
       "<style scoped>\n",
       "    .dataframe tbody tr th:only-of-type {\n",
       "        vertical-align: middle;\n",
       "    }\n",
       "\n",
       "    .dataframe tbody tr th {\n",
       "        vertical-align: top;\n",
       "    }\n",
       "\n",
       "    .dataframe thead th {\n",
       "        text-align: right;\n",
       "    }\n",
       "</style>\n",
       "<table border=\"1\" class=\"dataframe\">\n",
       "  <thead>\n",
       "    <tr style=\"text-align: right;\">\n",
       "      <th></th>\n",
       "      <th>x</th>\n",
       "      <th>y</th>\n",
       "      <th>z</th>\n",
       "    </tr>\n",
       "  </thead>\n",
       "  <tbody>\n",
       "    <tr>\n",
       "      <th>count</th>\n",
       "      <td>44765.000000</td>\n",
       "      <td>44765.000000</td>\n",
       "      <td>44765.000000</td>\n",
       "    </tr>\n",
       "    <tr>\n",
       "      <th>mean</th>\n",
       "      <td>0.090017</td>\n",
       "      <td>-0.022997</td>\n",
       "      <td>-0.867976</td>\n",
       "    </tr>\n",
       "    <tr>\n",
       "      <th>std</th>\n",
       "      <td>0.035953</td>\n",
       "      <td>0.038861</td>\n",
       "      <td>0.090954</td>\n",
       "    </tr>\n",
       "    <tr>\n",
       "      <th>min</th>\n",
       "      <td>0.000000</td>\n",
       "      <td>-0.176000</td>\n",
       "      <td>-1.240000</td>\n",
       "    </tr>\n",
       "    <tr>\n",
       "      <th>25%</th>\n",
       "      <td>0.064000</td>\n",
       "      <td>-0.048000</td>\n",
       "      <td>-0.888000</td>\n",
       "    </tr>\n",
       "    <tr>\n",
       "      <th>50%</th>\n",
       "      <td>0.080000</td>\n",
       "      <td>-0.016000</td>\n",
       "      <td>-0.856000</td>\n",
       "    </tr>\n",
       "    <tr>\n",
       "      <th>75%</th>\n",
       "      <td>0.112000</td>\n",
       "      <td>0.000000</td>\n",
       "      <td>-0.832000</td>\n",
       "    </tr>\n",
       "    <tr>\n",
       "      <th>max</th>\n",
       "      <td>0.280000</td>\n",
       "      <td>0.280000</td>\n",
       "      <td>-0.584000</td>\n",
       "    </tr>\n",
       "  </tbody>\n",
       "</table>\n",
       "</div>"
      ],
      "text/plain": [
       "                  x             y             z\n",
       "count  44765.000000  44765.000000  44765.000000\n",
       "mean       0.090017     -0.022997     -0.867976\n",
       "std        0.035953      0.038861      0.090954\n",
       "min        0.000000     -0.176000     -1.240000\n",
       "25%        0.064000     -0.048000     -0.888000\n",
       "50%        0.080000     -0.016000     -0.856000\n",
       "75%        0.112000      0.000000     -0.832000\n",
       "max        0.280000      0.280000     -0.584000"
      ]
     },
     "execution_count": 3,
     "metadata": {},
     "output_type": "execute_result"
    }
   ],
   "source": [
    "df.describe()"
   ]
  },
  {
   "cell_type": "code",
   "execution_count": 4,
   "metadata": {},
   "outputs": [],
   "source": [
    "# Remove gravity\n",
    "df['z'] += 1"
   ]
  },
  {
   "cell_type": "code",
   "execution_count": 5,
   "metadata": {},
   "outputs": [
    {
     "data": {
      "text/html": [
       "<div>\n",
       "<style scoped>\n",
       "    .dataframe tbody tr th:only-of-type {\n",
       "        vertical-align: middle;\n",
       "    }\n",
       "\n",
       "    .dataframe tbody tr th {\n",
       "        vertical-align: top;\n",
       "    }\n",
       "\n",
       "    .dataframe thead th {\n",
       "        text-align: right;\n",
       "    }\n",
       "</style>\n",
       "<table border=\"1\" class=\"dataframe\">\n",
       "  <thead>\n",
       "    <tr style=\"text-align: right;\">\n",
       "      <th></th>\n",
       "      <th>x</th>\n",
       "      <th>y</th>\n",
       "      <th>z</th>\n",
       "    </tr>\n",
       "  </thead>\n",
       "  <tbody>\n",
       "    <tr>\n",
       "      <th>count</th>\n",
       "      <td>44765.000000</td>\n",
       "      <td>44765.000000</td>\n",
       "      <td>44765.000000</td>\n",
       "    </tr>\n",
       "    <tr>\n",
       "      <th>mean</th>\n",
       "      <td>0.090017</td>\n",
       "      <td>-0.022997</td>\n",
       "      <td>0.132024</td>\n",
       "    </tr>\n",
       "    <tr>\n",
       "      <th>std</th>\n",
       "      <td>0.035953</td>\n",
       "      <td>0.038861</td>\n",
       "      <td>0.090954</td>\n",
       "    </tr>\n",
       "    <tr>\n",
       "      <th>min</th>\n",
       "      <td>0.000000</td>\n",
       "      <td>-0.176000</td>\n",
       "      <td>-0.240000</td>\n",
       "    </tr>\n",
       "    <tr>\n",
       "      <th>25%</th>\n",
       "      <td>0.064000</td>\n",
       "      <td>-0.048000</td>\n",
       "      <td>0.112000</td>\n",
       "    </tr>\n",
       "    <tr>\n",
       "      <th>50%</th>\n",
       "      <td>0.080000</td>\n",
       "      <td>-0.016000</td>\n",
       "      <td>0.144000</td>\n",
       "    </tr>\n",
       "    <tr>\n",
       "      <th>75%</th>\n",
       "      <td>0.112000</td>\n",
       "      <td>0.000000</td>\n",
       "      <td>0.168000</td>\n",
       "    </tr>\n",
       "    <tr>\n",
       "      <th>max</th>\n",
       "      <td>0.280000</td>\n",
       "      <td>0.280000</td>\n",
       "      <td>0.416000</td>\n",
       "    </tr>\n",
       "  </tbody>\n",
       "</table>\n",
       "</div>"
      ],
      "text/plain": [
       "                  x             y             z\n",
       "count  44765.000000  44765.000000  44765.000000\n",
       "mean       0.090017     -0.022997      0.132024\n",
       "std        0.035953      0.038861      0.090954\n",
       "min        0.000000     -0.176000     -0.240000\n",
       "25%        0.064000     -0.048000      0.112000\n",
       "50%        0.080000     -0.016000      0.144000\n",
       "75%        0.112000      0.000000      0.168000\n",
       "max        0.280000      0.280000      0.416000"
      ]
     },
     "execution_count": 5,
     "metadata": {},
     "output_type": "execute_result"
    }
   ],
   "source": [
    "df.describe()"
   ]
  },
  {
   "cell_type": "code",
   "execution_count": 30,
   "metadata": {},
   "outputs": [
    {
     "data": {
      "text/plain": [
       "<AxesSubplot:ylabel='Frequency'>"
      ]
     },
     "execution_count": 30,
     "metadata": {},
     "output_type": "execute_result"
    },
    {
     "data": {
      "image/png": "[encoded data removed]",
      "text/plain": [
       "<Figure size 432x288 with 1 Axes>"
      ]
     },
     "metadata": {
      "needs_background": "light"
     },
     "output_type": "display_data"
    }
   ],
   "source": [
    "df['x'].plot.hist(bins=12)"
   ]
  },
  {
   "cell_type": "code",
   "execution_count": 7,
   "metadata": {},
   "outputs": [
    {
     "data": {
      "text/plain": [
       "0.035953337284718785"
      ]
     },
     "execution_count": 7,
     "metadata": {},
     "output_type": "execute_result"
    }
   ],
   "source": [
    "df['x'].std()"
   ]
  },
  {
   "cell_type": "code",
   "execution_count": 8,
   "metadata": {},
   "outputs": [
    {
     "ename": "TypeError",
     "evalue": "scatter() missing 2 required positional arguments: 'x' and 'y'",
     "output_type": "error",
     "traceback": [
      "\u001b[0;31m---------------------------------------------------------------------------\u001b[0m",
      "\u001b[0;31mTypeError\u001b[0m                                 Traceback (most recent call last)",
      "\u001b[0;32m/var/folders/b5/syrr0vtn0n9_jkxhxm0z3grm0000gn/T/ipykernel_28001/3046676948.py\u001b[0m in \u001b[0;36m<module>\u001b[0;34m\u001b[0m\n\u001b[0;32m----> 1\u001b[0;31m \u001b[0mdf\u001b[0m\u001b[0;34m.\u001b[0m\u001b[0mplot\u001b[0m\u001b[0;34m.\u001b[0m\u001b[0mscatter\u001b[0m\u001b[0;34m(\u001b[0m\u001b[0;34m)\u001b[0m\u001b[0;34m\u001b[0m\u001b[0;34m\u001b[0m\u001b[0m\n\u001b[0m\u001b[1;32m      2\u001b[0m \u001b[0;34m\u001b[0m\u001b[0m\n",
      "\u001b[0;31mTypeError\u001b[0m: scatter() missing 2 required positional arguments: 'x' and 'y'"
     ]
    }
   ],
   "source": [
    "df.plot.scatter()"
   ]
  },
  {
   "cell_type": "code",
   "execution_count": null,
   "metadata": {},
   "outputs": [],
   "source": [
    "import matplotlib.pyplot as plt"
   ]
  },
  {
   "cell_type": "code",
   "execution_count": null,
   "metadata": {},
   "outputs": [],
   "source": [
    "fig = plt.figure()\n",
    "ax = fig.add_subplot(projection='3d')\n",
    "ax.scatter(df['x'], df['y'], df['z'])"
   ]
  },
  {
   "cell_type": "code",
   "execution_count": null,
   "metadata": {},
   "outputs": [],
   "source": [
    "import scipy as sp\n",
    "x_dps = np.array(df['x'])\n",
    "x_fft = sp.fftpack.fft(x_dps)\n",
    "\n",
    "x_psd = np.abs(x_fft) ** 2\n",
    "x_fftfreq = sp.fftpack.fftfreq(len(x_psd))\n",
    "\n",
    "i = x_fftfreq > 0\n",
    "\n",
    "#ax = fig.add_subplot()\n",
    "plt.plot(x_fftfreq[i], 10 * np.log10(x_psd[i]))\n",
    "#ax.set_ylabel('PSD (dB)')\n",
    "#plt.show()"
   ]
  },
  {
   "cell_type": "code",
   "execution_count": 15,
   "metadata": {},
   "outputs": [],
   "source": [
    "# Obtain a second dataframe that doesn't remove gravity so we can perform angle analysis as well\n",
    "df_with_g = pandas.read_feather('data_dump.bin')"
   ]
  },
  {
   "cell_type": "code",
   "execution_count": 18,
   "metadata": {
    "pycharm": {
     "name": "#%%\n"
    }
   },
   "outputs": [
    {
     "name": "stdout",
     "output_type": "stream",
     "text": [
      "Average Pitch: -1.3657101769069224\n",
      "Average Roll: 5.886719863491827\n"
     ]
    }
   ],
   "source": [
    "\n",
    "rot_x_dps = np.arctan2(df_with_g['x'], np.hypot(df_with_g['y'], df_with_g['z']))\n",
    "avg_rot_x = np.average(rot_x_dps)\n",
    "\n",
    "rot_y_dps = np.arctan2(df_with_g['y'], np.hypot(df_with_g['x'], df_with_g['z']))\n",
    "avg_rot_y = np.average(rot_y_dps)\n",
    "\n",
    "\n",
    "pitch = avg_rot_y\n",
    "roll = avg_rot_x\n",
    "\n",
    "print(f\"Average Pitch: {np.rad2deg(pitch)}\")\n",
    "print(f\"Average Roll: {np.rad2deg(roll)}\")\n",
    "\n",
    "\n"
   ]
  },
  {
   "cell_type": "code",
   "execution_count": 88,
   "metadata": {},
   "outputs": [
    {
     "name": "stdout",
     "output_type": "stream",
     "text": [
      "original:                   x             y             z\n",
      "count  44765.000000  44765.000000  44765.000000\n",
      "mean       0.090017     -0.022997     -0.867976\n",
      "std        0.035953      0.038861      0.090954\n",
      "min        0.000000     -0.176000     -1.240000\n",
      "25%        0.064000     -0.048000     -0.888000\n",
      "50%        0.080000     -0.016000     -0.856000\n",
      "75%        0.112000      0.000000     -0.832000\n",
      "max        0.280000      0.280000     -0.584000\n",
      "\n",
      "rot_removed:                   x             y             z\n",
      "count  44765.000000  44765.000000  44765.000000\n",
      "mean       0.066580     -0.029984     -0.869875\n",
      "std        0.033628      0.040257      0.091235\n",
      "min       -0.034123     -0.185771     -1.243080\n",
      "25%        0.043540     -0.055165     -0.890417\n",
      "50%        0.061661     -0.019604     -0.858617\n",
      "75%        0.084076     -0.002849     -0.832908\n",
      "max        0.241983      0.275226     -0.585931\n"
     ]
    }
   ],
   "source": [
    "def get_rotation_matrix(yaw, pitch, roll):\n",
    "    return np.array([\n",
    "        [np.cos(roll) * np.cos(pitch), np.cos(pitch) * np.sin(roll), -np.sin(pitch)],\n",
    "        [np.cos(roll) * np.sin(yaw) * np.sin(pitch) - np.cos(yaw) * np.sin(roll),\n",
    "         np.cos(yaw) * np.cos(roll) + np.sin(yaw) * np.sin(roll) * np.sin(pitch), np.cos(pitch) * np.sin(yaw)],\n",
    "        [np.sin(yaw) * np.sin(roll) + np.cos(yaw) * np.cos(roll) * np.sin(pitch),\n",
    "         np.cos(yaw) * np.sin(roll) * np.sin(pitch) - np.cos(roll) * np.sin(yaw), np.cos(yaw) * np.cos(pitch)]])\n",
    "\n",
    "\n",
    "# Attempt to remove rotation from the dataframe\n",
    "rot_removed_df = df @ get_rotation_matrix(0, -pitch, -roll)\n",
    "rot_removed_df.columns = ['x', 'y', 'z']\n",
    "\n",
    "\n",
    "print(f\"original: {df.describe()}\\n\\nrot_removed: {rot_removed_df.describe()}\")\n"
   ]
  },
  {
   "cell_type": "code",
   "execution_count": 89,
   "metadata": {},
   "outputs": [
    {
     "data": {
      "text/plain": [
       "[<matplotlib.lines.Line2D at 0x15d9c6d00>]"
      ]
     },
     "execution_count": 89,
     "metadata": {},
     "output_type": "execute_result"
    },
    {
     "data": {
      "image/png": "[encoded data removed]",
      "text/plain": [
       "<Figure size 432x288 with 1 Axes>"
      ]
     },
     "metadata": {
      "needs_background": "light"
     },
     "output_type": "display_data"
    }
   ],
   "source": [
    "# Plot histogram/distribution and compare to poisson distribution\n",
    "# NOTE: NOt really working / lacking significant knowledge about the distribution\n",
    "#df['x'].plot.hist(bins=12)\n",
    "mu_x = np.average(df['x'])\n",
    "plt.plot(df['x'], stats.poisson.pmf(df['x'], 0), 'bo', ms=8, label='poisson pmf')"
   ]
  },
  {
   "cell_type": "code",
   "execution_count": 95,
   "metadata": {},
   "outputs": [
    {
     "data": {
      "text/plain": [
       "<matplotlib.legend.Legend at 0x15db1e0a0>"
      ]
     },
     "execution_count": 95,
     "metadata": {},
     "output_type": "execute_result"
    },
    {
     "data": {
      "image/png": "[encoded data removed]",
      "text/plain": [
       "<Figure size 432x288 with 1 Axes>"
      ]
     },
     "metadata": {
      "needs_background": "light"
     },
     "output_type": "display_data"
    }
   ],
   "source": [
    "# Plot histograms to compare the effects of removing noise\n",
    "def plot_hist(df_to_use, name=''):\n",
    "    df_to_use['x'].plot.hist(bins=16, density=True, label=name)\n",
    "    mu = np.average(df_to_use['x'])\n",
    "    sigma = np.std(df_to_use['x'])\n",
    "\n",
    "    #x = np.linspace(stats.norm.ppf(0.01),\n",
    "    #                stats.norm.ppf(0.99), 1000)\n",
    "    x = np.linspace(stats.norm.ppf(0.2),\n",
    "                    stats.norm.ppf(0.8), 10000)\n",
    "\n",
    "    plt.plot(x, stats.norm.pdf(x, mu, sigma), label=f'normal fit {name} [mu={mu:.3}; sigma={sigma:.3}]')\n",
    "\n",
    "plot_hist(rot_removed_df, 'rot_removed')\n",
    "plot_hist(df, 'normal')\n",
    "plt.legend()"
   ]
  },
  {
   "cell_type": "code",
   "execution_count": 69,
   "metadata": {},
   "outputs": [
    {
     "name": "stdout",
     "output_type": "stream",
     "text": [
      "matplotlib: 3.4.2\n"
     ]
    }
   ],
   "source": [
    "import matplotlib\n",
    "print('matplotlib: {}'. format(matplotlib. __version__))"
   ]
  },
  {
   "cell_type": "code",
   "execution_count": 101,
   "metadata": {},
   "outputs": [
    {
     "data": {
      "text/plain": [
       "array([ 0.06657998, -0.02998412,  0.13012461])"
      ]
     },
     "execution_count": 101,
     "metadata": {},
     "output_type": "execute_result"
    }
   ],
   "source": [
    "# Compute new gain to get averages on the 0\n",
    "new_gain = np.average(rot_removed_df + np.array([0, 0, 1]), 0)\n",
    "new_gain"
   ]
  },
  {
   "cell_type": "code",
   "execution_count": 104,
   "metadata": {},
   "outputs": [
    {
     "data": {
      "text/html": [
       "<div>\n",
       "<style scoped>\n",
       "    .dataframe tbody tr th:only-of-type {\n",
       "        vertical-align: middle;\n",
       "    }\n",
       "\n",
       "    .dataframe tbody tr th {\n",
       "        vertical-align: top;\n",
       "    }\n",
       "\n",
       "    .dataframe thead th {\n",
       "        text-align: right;\n",
       "    }\n",
       "</style>\n",
       "<table border=\"1\" class=\"dataframe\">\n",
       "  <thead>\n",
       "    <tr style=\"text-align: right;\">\n",
       "      <th></th>\n",
       "      <th>x</th>\n",
       "      <th>y</th>\n",
       "      <th>z</th>\n",
       "    </tr>\n",
       "  </thead>\n",
       "  <tbody>\n",
       "    <tr>\n",
       "      <th>count</th>\n",
       "      <td>4.476500e+04</td>\n",
       "      <td>4.476500e+04</td>\n",
       "      <td>4.476500e+04</td>\n",
       "    </tr>\n",
       "    <tr>\n",
       "      <th>mean</th>\n",
       "      <td>3.466604e-16</td>\n",
       "      <td>-4.295161e-16</td>\n",
       "      <td>3.383272e-15</td>\n",
       "    </tr>\n",
       "    <tr>\n",
       "      <th>std</th>\n",
       "      <td>3.362799e-02</td>\n",
       "      <td>4.025737e-02</td>\n",
       "      <td>9.123504e-02</td>\n",
       "    </tr>\n",
       "    <tr>\n",
       "      <th>min</th>\n",
       "      <td>-1.007031e-01</td>\n",
       "      <td>-1.557871e-01</td>\n",
       "      <td>-3.732044e-01</td>\n",
       "    </tr>\n",
       "    <tr>\n",
       "      <th>25%</th>\n",
       "      <td>-2.304012e-02</td>\n",
       "      <td>-2.518101e-02</td>\n",
       "      <td>-2.054175e-02</td>\n",
       "    </tr>\n",
       "    <tr>\n",
       "      <th>50%</th>\n",
       "      <td>-4.919022e-03</td>\n",
       "      <td>1.038000e-02</td>\n",
       "      <td>1.125848e-02</td>\n",
       "    </tr>\n",
       "    <tr>\n",
       "      <th>75%</th>\n",
       "      <td>1.749633e-02</td>\n",
       "      <td>2.713544e-02</td>\n",
       "      <td>3.696771e-02</td>\n",
       "    </tr>\n",
       "    <tr>\n",
       "      <th>max</th>\n",
       "      <td>1.754034e-01</td>\n",
       "      <td>3.052102e-01</td>\n",
       "      <td>2.839439e-01</td>\n",
       "    </tr>\n",
       "  </tbody>\n",
       "</table>\n",
       "</div>"
      ],
      "text/plain": [
       "                  x             y             z\n",
       "count  4.476500e+04  4.476500e+04  4.476500e+04\n",
       "mean   3.466604e-16 -4.295161e-16  3.383272e-15\n",
       "std    3.362799e-02  4.025737e-02  9.123504e-02\n",
       "min   -1.007031e-01 -1.557871e-01 -3.732044e-01\n",
       "25%   -2.304012e-02 -2.518101e-02 -2.054175e-02\n",
       "50%   -4.919022e-03  1.038000e-02  1.125848e-02\n",
       "75%    1.749633e-02  2.713544e-02  3.696771e-02\n",
       "max    1.754034e-01  3.052102e-01  2.839439e-01"
      ]
     },
     "execution_count": 104,
     "metadata": {},
     "output_type": "execute_result"
    }
   ],
   "source": [
    "# Remove gravity and compensate for the new gain\n",
    "df_with_new_gain = rot_removed_df + np.array([0, 0, 1]) - new_gain\n",
    "df_with_new_gain.describe()"
   ]
  },
  {
   "cell_type": "code",
   "execution_count": 106,
   "metadata": {},
   "outputs": [
    {
     "data": {
      "text/plain": [
       "array([0.03362799, 0.04025737, 0.09123504])"
      ]
     },
     "execution_count": 106,
     "metadata": {},
     "output_type": "execute_result"
    }
   ],
   "source": [
    "np.array(df_with_new_gain.std())"
   ]
  },
  {
   "cell_type": "code",
   "execution_count": null,
   "metadata": {},
   "outputs": [],
   "source": []
  }
 ],
 "metadata": {
  "kernelspec": {
   "display_name": "Python 3 (ipykernel)",
   "language": "python",
   "name": "python3"
  },
  "language_info": {
   "codemirror_mode": {
    "name": "ipython",
    "version": 3
   },
   "file_extension": ".py",
   "mimetype": "text/x-python",
   "name": "python",
   "nbconvert_exporter": "python",
   "pygments_lexer": "ipython3",
   "version": "3.9.5"
  }
 },
 "nbformat": 4,
 "nbformat_minor": 1
}
